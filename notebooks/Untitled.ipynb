{
 "cells": [
  {
   "cell_type": "code",
   "execution_count": 1,
   "metadata": {
    "ExecuteTime": {
     "end_time": "2018-08-17T08:18:04.736681Z",
     "start_time": "2018-08-17T08:18:04.305445Z"
    }
   },
   "outputs": [],
   "source": [
    "import torch\n",
    "import torchvision\n",
    "import numpy as np\n",
    "import os.path as osp\n",
    "import os\n",
    "import math"
   ]
  },
  {
   "cell_type": "code",
   "execution_count": 2,
   "metadata": {
    "ExecuteTime": {
     "end_time": "2018-08-17T08:18:04.741387Z",
     "start_time": "2018-08-17T08:18:04.738855Z"
    }
   },
   "outputs": [],
   "source": [
    "yolo_pred_path = \"/home/zabulskyy/Projects/CTU-Research/yolo_predictions/extended/\""
   ]
  },
  {
   "cell_type": "code",
   "execution_count": 3,
   "metadata": {
    "ExecuteTime": {
     "end_time": "2018-08-17T08:18:04.747818Z",
     "start_time": "2018-08-17T08:18:04.743326Z"
    }
   },
   "outputs": [],
   "source": [
    "def read_yolo_pred(vot_class, yolo_pred_path=yolo_pred_path, pred_format=\"csv\", first_len=True):\n",
    "    yolo_pred_file = osp.join(yolo_pred_path, vot_class + \".\" + pred_format)\n",
    "    with open(yolo_pred_file, 'r') as file:\n",
    "        l =file.read().split(\"\\n\")\n",
    "        l.pop(-1)\n",
    "        im_len = -1\n",
    "        if first_len:\n",
    "            im_len = float(l.pop(0))\n",
    "        l = [[float(x) for x in y.split(\",\")] for y in l]            \n",
    "        return torch.tensor(l), im_len\n",
    "    "
   ]
  },
  {
   "cell_type": "code",
   "execution_count": 4,
   "metadata": {
    "ExecuteTime": {
     "end_time": "2018-08-17T08:18:05.439544Z",
     "start_time": "2018-08-17T08:18:04.749598Z"
    }
   },
   "outputs": [],
   "source": [
    "yp, imlen = read_yolo_pred(\"birds2\")"
   ]
  },
  {
   "cell_type": "code",
   "execution_count": 5,
   "metadata": {
    "ExecuteTime": {
     "end_time": "2018-08-17T08:18:05.448920Z",
     "start_time": "2018-08-17T08:18:05.441033Z"
    }
   },
   "outputs": [
    {
     "data": {
      "text/plain": [
       "torch.Size([13018, 86])"
      ]
     },
     "execution_count": 5,
     "metadata": {},
     "output_type": "execute_result"
    }
   ],
   "source": [
    "yp.shape"
   ]
  },
  {
   "cell_type": "code",
   "execution_count": 6,
   "metadata": {
    "ExecuteTime": {
     "end_time": "2018-08-17T08:18:05.455167Z",
     "start_time": "2018-08-17T08:18:05.450398Z"
    }
   },
   "outputs": [
    {
     "data": {
      "text/plain": [
       "torch.Size([13018])"
      ]
     },
     "execution_count": 6,
     "metadata": {},
     "output_type": "execute_result"
    }
   ],
   "source": [
    "torch.max(yp[:, 6:], dim=1)[0].shape"
   ]
  },
  {
   "cell_type": "code",
   "execution_count": 7,
   "metadata": {
    "ExecuteTime": {
     "end_time": "2018-08-17T08:18:05.458425Z",
     "start_time": "2018-08-17T08:18:05.456600Z"
    }
   },
   "outputs": [],
   "source": [
    "# yp = yp[torch.max(yp[:, 6:], dim=1)[0] > .999]"
   ]
  },
  {
   "cell_type": "code",
   "execution_count": 8,
   "metadata": {
    "ExecuteTime": {
     "end_time": "2018-08-17T08:18:05.463119Z",
     "start_time": "2018-08-17T08:18:05.460063Z"
    }
   },
   "outputs": [
    {
     "data": {
      "text/plain": [
       "torch.Size([13018, 86])"
      ]
     },
     "execution_count": 8,
     "metadata": {},
     "output_type": "execute_result"
    }
   ],
   "source": [
    "yp.shape"
   ]
  },
  {
   "cell_type": "code",
   "execution_count": 9,
   "metadata": {
    "ExecuteTime": {
     "end_time": "2018-08-17T08:18:05.477766Z",
     "start_time": "2018-08-17T08:18:05.475459Z"
    }
   },
   "outputs": [],
   "source": [
    "descriptors = yp[:, 6:]"
   ]
  },
  {
   "cell_type": "code",
   "execution_count": 10,
   "metadata": {
    "ExecuteTime": {
     "end_time": "2018-08-17T08:18:05.623111Z",
     "start_time": "2018-08-17T08:18:05.619318Z"
    }
   },
   "outputs": [
    {
     "data": {
      "text/plain": [
       "torch.Size([13018, 80])"
      ]
     },
     "execution_count": 10,
     "metadata": {},
     "output_type": "execute_result"
    }
   ],
   "source": [
    "descriptors.shape"
   ]
  },
  {
   "cell_type": "code",
   "execution_count": 11,
   "metadata": {
    "ExecuteTime": {
     "end_time": "2018-08-17T08:18:05.774078Z",
     "start_time": "2018-08-17T08:18:05.769535Z"
    }
   },
   "outputs": [],
   "source": [
    "cls_probs, classes = torch.max(descriptors, dim=1)"
   ]
  },
  {
   "cell_type": "code",
   "execution_count": 12,
   "metadata": {
    "ExecuteTime": {
     "end_time": "2018-08-17T08:18:05.940188Z",
     "start_time": "2018-08-17T08:18:05.937252Z"
    }
   },
   "outputs": [],
   "source": [
    "ff = yp[yp[:, 0] == 0]"
   ]
  },
  {
   "cell_type": "code",
   "execution_count": 13,
   "metadata": {
    "ExecuteTime": {
     "end_time": "2018-08-17T08:18:06.123559Z",
     "start_time": "2018-08-17T08:18:06.082892Z"
    }
   },
   "outputs": [
    {
     "name": "stdout",
     "output_type": "stream",
     "text": [
      "tensor([   0.0000,  435.1782,  384.9973,  540.7308,  458.9548]) tensor(14)\n",
      "tensor([   0.0000,  192.9908,  363.3358,  312.4002,  491.7515]) tensor(14)\n",
      "tensor([   0.0000,  438.0448,  382.3414,  542.4027,  446.4881]) tensor(14)\n",
      "tensor([   0.0000,   66.5325,  389.9662,  170.5790,  495.1159]) tensor(14)\n",
      "tensor([   0.0000,  300.3207,  362.2326,  411.3023,  463.9341]) tensor(14)\n",
      "tensor([   0.0000,  208.1563,  368.3787,  322.2943,  488.3542]) tensor(14)\n",
      "tensor([   0.0000,   75.2821,  387.6054,  154.1457,  499.7486]) tensor(14)\n",
      "tensor([   0.0000,  436.2143,  371.9668,  540.4633,  452.4739]) tensor(14)\n",
      "tensor([   0.0000,  634.3792,  244.2449,  736.1362,  487.3626]) tensor(0)\n",
      "tensor([   0.0000,  307.6283,  360.9758,  391.4435,  467.1480]) tensor(14)\n",
      "tensor([   0.0000,  225.8586,  362.4484,  316.3410,  493.2590]) tensor(14)\n",
      "tensor([   0.0000,  435.7800,  384.6048,  536.9751,  460.7913]) tensor(14)\n",
      "tensor([   0.0000,   68.1593,  386.1619,  145.9024,  500.7172]) tensor(14)\n",
      "tensor([   0.0000,  296.3338,  370.6473,  406.9856,  479.3356]) tensor(14)\n",
      "tensor([   0.0000,  709.7218,  212.4494,  847.9936,  464.6613]) tensor(0)\n",
      "tensor([   0.0000,  655.0116,  249.7126,  727.3983,  482.2511]) tensor(0)\n",
      "tensor([   0.0000,  694.6251,  214.6559,  843.2198,  459.1760]) tensor(0)\n",
      "tensor([   0.0000,  305.2608,  368.7965,  391.1041,  482.2744]) tensor(14)\n",
      "tensor([   0.0000,  696.7382,  219.4656,  838.8110,  481.0114]) tensor(0)\n",
      "tensor([   0.0000,  709.4280,  222.1625,  849.6510,  477.5515]) tensor(0)\n"
     ]
    }
   ],
   "source": [
    "for i in range(len(ff)):\n",
    "    print(ff[i][:5], classes[i])"
   ]
  },
  {
   "cell_type": "code",
   "execution_count": 14,
   "metadata": {
    "ExecuteTime": {
     "end_time": "2018-08-17T08:18:06.317787Z",
     "start_time": "2018-08-17T08:18:06.232424Z"
    },
    "scrolled": true
   },
   "outputs": [
    {
     "ename": "RuntimeError",
     "evalue": "dimension out of range (expected to be in range of [-1, 0], but got 1)",
     "output_type": "error",
     "traceback": [
      "\u001b[0;31m---------------------------------------------------------------------------\u001b[0m",
      "\u001b[0;31mRuntimeError\u001b[0m                              Traceback (most recent call last)",
      "\u001b[0;32m<ipython-input-14-5107ded73804>\u001b[0m in \u001b[0;36m<module>\u001b[0;34m()\u001b[0m\n\u001b[0;32m----> 1\u001b[0;31m \u001b[0mclasses\u001b[0m\u001b[0;34m[\u001b[0m\u001b[0;34m(\u001b[0m\u001b[0mtorch\u001b[0m\u001b[0;34m.\u001b[0m\u001b[0mmax\u001b[0m\u001b[0;34m(\u001b[0m\u001b[0mclasses\u001b[0m\u001b[0;34m,\u001b[0m \u001b[0mdim\u001b[0m\u001b[0;34m=\u001b[0m\u001b[0;36m1\u001b[0m\u001b[0;34m)\u001b[0m\u001b[0;34m[\u001b[0m\u001b[0;36m0\u001b[0m\u001b[0;34m]\u001b[0m \u001b[0;34m>\u001b[0m \u001b[0;36m.9\u001b[0m\u001b[0;34m)\u001b[0m \u001b[0;34m==\u001b[0m \u001b[0;36m1\u001b[0m\u001b[0;34m]\u001b[0m\u001b[0;34m.\u001b[0m\u001b[0mshape\u001b[0m\u001b[0;34m,\u001b[0m \u001b[0mclasses\u001b[0m\u001b[0;34m[\u001b[0m\u001b[0;34m(\u001b[0m\u001b[0mtorch\u001b[0m\u001b[0;34m.\u001b[0m\u001b[0mmax\u001b[0m\u001b[0;34m(\u001b[0m\u001b[0mclasses\u001b[0m\u001b[0;34m,\u001b[0m \u001b[0mdim\u001b[0m\u001b[0;34m=\u001b[0m\u001b[0;36m1\u001b[0m\u001b[0;34m)\u001b[0m\u001b[0;34m[\u001b[0m\u001b[0;36m0\u001b[0m\u001b[0;34m]\u001b[0m \u001b[0;34m>\u001b[0m \u001b[0;36m.9\u001b[0m\u001b[0;34m)\u001b[0m \u001b[0;34m==\u001b[0m \u001b[0;36m1\u001b[0m\u001b[0;34m]\u001b[0m\u001b[0;34m\u001b[0m\u001b[0m\n\u001b[0m",
      "\u001b[0;31mRuntimeError\u001b[0m: dimension out of range (expected to be in range of [-1, 0], but got 1)"
     ]
    }
   ],
   "source": [
    "classes[(torch.max(classes, dim=1)[0] > .9) == 1].shape, classes[(torch.max(classes, dim=1)[0] > .9) == 1]"
   ]
  },
  {
   "cell_type": "code",
   "execution_count": 41,
   "metadata": {
    "ExecuteTime": {
     "end_time": "2018-08-17T08:21:06.364724Z",
     "start_time": "2018-08-17T08:21:06.356544Z"
    }
   },
   "outputs": [],
   "source": [
    "people = ff[classes[:20] == 0]"
   ]
  },
  {
   "cell_type": "code",
   "execution_count": 42,
   "metadata": {
    "ExecuteTime": {
     "end_time": "2018-08-17T08:21:06.776580Z",
     "start_time": "2018-08-17T08:21:06.771801Z"
    }
   },
   "outputs": [
    {
     "data": {
      "text/plain": [
       "torch.Size([6, 80])"
      ]
     },
     "execution_count": 42,
     "metadata": {},
     "output_type": "execute_result"
    }
   ],
   "source": [
    "people_desc = people[:, 6:]\n",
    "people_desc.shape"
   ]
  },
  {
   "cell_type": "code",
   "execution_count": 43,
   "metadata": {
    "ExecuteTime": {
     "end_time": "2018-08-17T08:21:07.290102Z",
     "start_time": "2018-08-17T08:21:07.286598Z"
    }
   },
   "outputs": [],
   "source": [
    "dist = torch.nn.modules.PairwiseDistance()\n"
   ]
  },
  {
   "cell_type": "code",
   "execution_count": 44,
   "metadata": {
    "ExecuteTime": {
     "end_time": "2018-08-17T08:21:08.030443Z",
     "start_time": "2018-08-17T08:21:08.019436Z"
    }
   },
   "outputs": [
    {
     "data": {
      "text/plain": [
       "tensor([[   0.0000,  634.3792,  244.2449,  736.1362,  487.3626,    0.9946],\n",
       "        [   0.0000,  709.7218,  212.4494,  847.9936,  464.6613,    0.9403],\n",
       "        [   0.0000,  655.0116,  249.7126,  727.3983,  482.2511,    0.7553],\n",
       "        [   0.0000,  694.6251,  214.6559,  843.2198,  459.1760,    0.9816],\n",
       "        [   0.0000,  696.7382,  219.4656,  838.8110,  481.0114,    0.9748],\n",
       "        [   0.0000,  709.4280,  222.1625,  849.6510,  477.5515,    0.9652]])"
      ]
     },
     "execution_count": 44,
     "metadata": {},
     "output_type": "execute_result"
    }
   ],
   "source": [
    "people[:, :6]"
   ]
  },
  {
   "cell_type": "code",
   "execution_count": 46,
   "metadata": {
    "ExecuteTime": {
     "end_time": "2018-08-17T08:21:12.994224Z",
     "start_time": "2018-08-17T08:21:12.985342Z"
    }
   },
   "outputs": [],
   "source": [
    "kid = people[[0, 2]]"
   ]
  },
  {
   "cell_type": "code",
   "execution_count": 47,
   "metadata": {
    "ExecuteTime": {
     "end_time": "2018-08-17T08:21:13.483977Z",
     "start_time": "2018-08-17T08:21:13.476070Z"
    }
   },
   "outputs": [
    {
     "data": {
      "text/plain": [
       "torch.Size([2, 80])"
      ]
     },
     "execution_count": 47,
     "metadata": {},
     "output_type": "execute_result"
    }
   ],
   "source": [
    "kid_desc = kid[:, 6:]\n",
    "kid_desc.shape"
   ]
  },
  {
   "cell_type": "code",
   "execution_count": 48,
   "metadata": {
    "ExecuteTime": {
     "end_time": "2018-08-17T08:21:13.689770Z",
     "start_time": "2018-08-17T08:21:13.685944Z"
    }
   },
   "outputs": [],
   "source": [
    "kk = dist(kid_desc[0].view([1, -1]), kid_desc[1].view([1, -1]))"
   ]
  },
  {
   "cell_type": "code",
   "execution_count": 49,
   "metadata": {
    "ExecuteTime": {
     "end_time": "2018-08-17T08:21:13.890574Z",
     "start_time": "2018-08-17T08:21:13.887593Z"
    }
   },
   "outputs": [],
   "source": [
    "kp = dist(kid_desc[1].view([1, -1]), people[1][6:].view([1, -1]))"
   ]
  },
  {
   "cell_type": "code",
   "execution_count": 50,
   "metadata": {
    "ExecuteTime": {
     "end_time": "2018-08-17T08:21:14.132750Z",
     "start_time": "2018-08-17T08:21:14.130221Z"
    }
   },
   "outputs": [],
   "source": [
    "kid0 = kid[0]"
   ]
  },
  {
   "cell_type": "code",
   "execution_count": null,
   "metadata": {
    "ExecuteTime": {
     "end_time": "2018-08-17T08:19:40.592946Z",
     "start_time": "2018-08-17T08:19:40.584631Z"
    }
   },
   "outputs": [],
   "source": []
  },
  {
   "cell_type": "code",
   "execution_count": 55,
   "metadata": {
    "ExecuteTime": {
     "end_time": "2018-08-17T08:25:24.492403Z",
     "start_time": "2018-08-17T08:25:24.485271Z"
    }
   },
   "outputs": [],
   "source": [
    "people[:, torch.argmax(people[:, 6:], dim=1) + 6] = 0"
   ]
  },
  {
   "cell_type": "code",
   "execution_count": 54,
   "metadata": {
    "ExecuteTime": {
     "end_time": "2018-08-17T08:22:36.523485Z",
     "start_time": "2018-08-17T08:22:36.516416Z"
    }
   },
   "outputs": [
    {
     "name": "stdout",
     "output_type": "stream",
     "text": [
      "tensor(1.00000e-04 *\n",
      "       [ 5.7287])\n",
      "tensor(1.00000e-04 *\n",
      "       [ 5.2413])\n",
      "tensor(1.00000e-03 *\n",
      "       [ 1.2829])\n",
      "tensor(1.00000e-04 *\n",
      "       [ 3.9949])\n",
      "tensor(1.00000e-06 *\n",
      "       [ 8.9443])\n",
      "tensor(1.00000e-04 *\n",
      "       [ 4.2070])\n"
     ]
    }
   ],
   "source": [
    "for i in range(len(people)):\n",
    "    print(dist(people[4][6:].view([1, -1]), people[i][6:].view([1, -1])).float())"
   ]
  },
  {
   "cell_type": "code",
   "execution_count": 40,
   "metadata": {
    "ExecuteTime": {
     "end_time": "2018-08-17T08:20:49.473379Z",
     "start_time": "2018-08-17T08:20:49.465537Z"
    }
   },
   "outputs": [
    {
     "name": "stdout",
     "output_type": "stream",
     "text": [
      "0.00017043043044395745 \n",
      " [634.379150390625, 244.2449493408203, 736.1361694335938, 487.3626403808594] \n",
      "\n",
      "8.944271939981263e-06 \n",
      " [709.7218017578125, 212.4493865966797, 847.9935913085938, 464.6612854003906] \n",
      "\n",
      "0.001237634103745222 \n",
      " [655.0115966796875, 249.71258544921875, 727.3982543945312, 482.2510986328125] \n",
      "\n",
      "0.00015421138959936798 \n",
      " [694.6250610351562, 214.6558837890625, 843.2197875976562, 459.176025390625] \n",
      "\n",
      "0.0005185101763345301 \n",
      " [696.7382202148438, 219.46560668945312, 838.81103515625, 481.0113525390625] \n",
      "\n",
      "0.00037562305806204677 \n",
      " [709.427978515625, 222.16250610351562, 849.6510009765625, 477.5514831542969] \n",
      "\n"
     ]
    }
   ],
   "source": [
    "for i in range(len(people)):\n",
    "    print(float(dist(people[1][6:].view([1, -1]), people[i][6:].view([1, -1]))), \"\\n\", people[i, 1:5].tolist(), \"\\n\")"
   ]
  },
  {
   "cell_type": "code",
   "execution_count": null,
   "metadata": {},
   "outputs": [],
   "source": []
  },
  {
   "cell_type": "code",
   "execution_count": null,
   "metadata": {},
   "outputs": [],
   "source": []
  },
  {
   "cell_type": "code",
   "execution_count": null,
   "metadata": {},
   "outputs": [],
   "source": []
  }
 ],
 "metadata": {
  "kernelspec": {
   "display_name": "Python 3",
   "language": "python",
   "name": "python3"
  },
  "language_info": {
   "codemirror_mode": {
    "name": "ipython",
    "version": 3
   },
   "file_extension": ".py",
   "mimetype": "text/x-python",
   "name": "python",
   "nbconvert_exporter": "python",
   "pygments_lexer": "ipython3",
   "version": "3.6.6"
  }
 },
 "nbformat": 4,
 "nbformat_minor": 2
}
