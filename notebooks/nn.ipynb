{
 "cells": [
  {
   "cell_type": "code",
   "execution_count": 1,
   "metadata": {},
   "outputs": [],
   "source": [
    "# YOLO_PREDICTIONS -> [NN] -> VOT_GT"
   ]
  },
  {
   "cell_type": "code",
   "execution_count": 3,
   "metadata": {
    "ExecuteTime": {
     "end_time": "2018-08-14T08:23:40.154670Z",
     "start_time": "2018-08-14T08:23:38.226386Z"
    }
   },
   "outputs": [
    {
     "name": "stderr",
     "output_type": "stream",
     "text": [
      "Using TensorFlow backend.\n"
     ]
    }
   ],
   "source": [
    "import pandas\n",
    "from keras.models import Sequential\n",
    "from keras.layers import Dense\n",
    "from keras.wrappers.scikit_learn import KerasRegressor\n",
    "from sklearn.model_selection import cross_val_score\n",
    "from sklearn.model_selection import KFold\n",
    "from sklearn.preprocessing import StandardScaler\n",
    "from sklearn.pipeline import Pipeline"
   ]
  },
  {
   "cell_type": "code",
   "execution_count": 4,
   "metadata": {
    "ExecuteTime": {
     "end_time": "2018-08-14T08:23:40.158848Z",
     "start_time": "2018-08-14T08:23:40.156390Z"
    }
   },
   "outputs": [],
   "source": [
    "import os\n",
    "import os.path as osp\n",
    "import numpy as np"
   ]
  },
  {
   "cell_type": "code",
   "execution_count": 165,
   "metadata": {
    "ExecuteTime": {
     "end_time": "2018-08-14T09:15:13.667563Z",
     "start_time": "2018-08-14T09:15:13.649489Z"
    }
   },
   "outputs": [
    {
     "name": "stdout",
     "output_type": "stream",
     "text": [
      "['person', 'bicycle', 'car', 'motorbike', 'aeroplane', 'bus', 'train', 'truck', 'boat', 'traffic light', 'fire hydrant', 'stop sign', 'parking meter', 'bench', 'bird', 'cat', 'dog', 'horse', 'sheep', 'cow', 'elephant', 'bear', 'zebra', 'giraffe', 'backpack', 'umbrella', 'handbag', 'tie', 'suitcase', 'frisbee', 'skis', 'snowboard', 'sports ball', 'kite', 'baseball bat', 'baseball glove', 'skateboard', 'surfboard', 'tennis racket', 'bottle', 'wine glass', 'cup', 'fork', 'knife', 'spoon', 'bowl', 'banana', 'apple', 'sandwich', 'orange', 'broccoli', 'carrot', 'hot dog', 'pizza', 'donut', 'cake', 'chair', 'sofa', 'pottedplant', 'bed', 'diningtable', 'toilet', 'tvmonitor', 'laptop', 'mouse', 'remote', 'keyboard', 'cell phone', 'microwave', 'oven', 'toaster', 'sink', 'refrigerator', 'book', 'clock', 'vase', 'scissors', 'teddy bear', 'hair drier', 'toothbrush']\n"
     ]
    }
   ],
   "source": [
    "# GLOBALS\n",
    "# vot_path = \"../../../vot2016/\"\n",
    "vot_path = \"/home/zabulskyy/Datasets/vot2016/\"\n",
    "# yolo_pred_path = \"../yolo_predictions/extended\"\n",
    "yolo_pred_path = \"/mnt/sshfs/YOLO-tracker/yolo_predictions/casual\"\n",
    "crit_vals = {\n",
    "    \"iou\": 1,\n",
    "    \"dist2\": 1,\n",
    "#     \"abs_pos\": 1,\n",
    "#     \"rel_pos\": 1,\n",
    "    \"cc\": 100,  # class_correspondence\n",
    "}\n",
    "with open(\"../../yoloTorch/data/coco.names\", \"r\") as f:\n",
    "    classes = f.read().split(\"\\n\")[:-1]\n",
    "print(classes)"
   ]
  },
  {
   "cell_type": "code",
   "execution_count": 166,
   "metadata": {
    "ExecuteTime": {
     "end_time": "2018-08-14T09:15:15.352343Z",
     "start_time": "2018-08-14T09:15:15.337803Z"
    }
   },
   "outputs": [],
   "source": [
    "def read_full_gt(vot_path=vot_path, force_square=True, return_format=\"dict\"):\n",
    "    vot_classes = [x for x in os.listdir(vot_path) if not x.endswith(\".txt\")]\n",
    "    if return_format == \"list\":\n",
    "        X = list()\n",
    "    else:\n",
    "        X = dict()\n",
    "    for vot_class in vot_classes:\n",
    "        gt_file = osp.join(vot_path, vot_class, \"groundtruth.txt\")\n",
    "        with open(gt_file, 'r') as file:\n",
    "            l =file.read().split(\"\\n\")\n",
    "            l.pop(-1)\n",
    "            l = [[float(x) for x in y.split(\",\")] for y in l]\n",
    "            if force_square:\n",
    "                l = [[min(m[::2]), min(m[1::2]), max(m[::2]), max(m[1::2])] for m in l]   \n",
    "        \n",
    "        if return_format == \"list\":\n",
    "            X.append(l)\n",
    "        else:\n",
    "            X[vot_class] = l\n",
    "                    \n",
    "    return X"
   ]
  },
  {
   "cell_type": "code",
   "execution_count": 168,
   "metadata": {
    "ExecuteTime": {
     "end_time": "2018-08-14T09:15:28.199223Z",
     "start_time": "2018-08-14T09:15:28.192168Z"
    }
   },
   "outputs": [],
   "source": [
    "def read_all_yolo_preds(path=yolo_pred_path, pred_format=\"csv\", return_format=\"dict\", threshold=.9):\n",
    "    if return_format == \"list\":\n",
    "        X = list()\n",
    "    else:\n",
    "        X = dict()\n",
    "    \n",
    "    for vot_class in os.listdir(path):\n",
    "        yolo_pred_file = osp.join(path, vot_class)\n",
    "        with open(yolo_pred_file, 'r') as file:\n",
    "            l = file.read().split(\"\\n\")\n",
    "            l.pop(-1)\n",
    "            l.pop(0)\n",
    "            im_len = -1\n",
    "            \n",
    "            l = np.array([np.array([float(x) for x in i.split(\",\")]) for i in l])\n",
    "            l = np.array([x[[0,1,2,3,4,7]] for x in l])# if x[6] > threshold])\n",
    "            \n",
    "            X[vot_class[:-4]] = l\n",
    "    return X"
   ]
  },
  {
   "cell_type": "code",
   "execution_count": 169,
   "metadata": {
    "ExecuteTime": {
     "end_time": "2018-08-14T09:15:30.454279Z",
     "start_time": "2018-08-14T09:15:29.213381Z"
    }
   },
   "outputs": [],
   "source": [
    "X = read_all_yolo_preds()\n"
   ]
  },
  {
   "cell_type": "code",
   "execution_count": 170,
   "metadata": {
    "ExecuteTime": {
     "end_time": "2018-08-14T09:15:30.461047Z",
     "start_time": "2018-08-14T09:15:30.455964Z"
    }
   },
   "outputs": [
    {
     "data": {
      "text/plain": [
       "array([[  0.        , 634.37915039, 244.24494934, 736.13616943,\n",
       "        487.36264038,   0.        ],\n",
       "       [  0.        , 694.62506104, 214.65588379, 843.2197876 ,\n",
       "        459.17602539,   0.        ],\n",
       "       [  0.        ,  75.28208923, 387.6053772 , 154.14573669,\n",
       "        499.74859619,  14.        ],\n",
       "       [  0.        , 208.15631104, 368.37866211, 322.29425049,\n",
       "        488.35415649,  14.        ],\n",
       "       [  0.        , 296.33383179, 370.64733887, 406.98562622,\n",
       "        479.33563232,  14.        ],\n",
       "       [  0.        , 435.77996826, 384.60476685, 536.97509766,\n",
       "        460.79129028,  14.        ]])"
      ]
     },
     "execution_count": 170,
     "metadata": {},
     "output_type": "execute_result"
    }
   ],
   "source": [
    "X[\"birds2\"][X[\"birds2\"][:, 0] == 0][:].astype(float)"
   ]
  },
  {
   "cell_type": "code",
   "execution_count": 129,
   "metadata": {
    "ExecuteTime": {
     "end_time": "2018-08-14T09:01:35.586085Z",
     "start_time": "2018-08-14T09:01:35.580198Z"
    }
   },
   "outputs": [],
   "source": [
    "def read_full_gt(path=vot_path, pred_format=\"csv\", return_format=\"dict\"):\n",
    "    if return_format == \"list\":\n",
    "        X = list()\n",
    "    else:\n",
    "        X = dict()\n",
    "    \n",
    "    for vot_class in [x for x in os.listdir(path) if not x.endswith(\".txt\")]:\n",
    "        yolo_pred_file = osp.join(path, vot_class, \"groundtruth.txt\")\n",
    "        with open(yolo_pred_file, 'r') as file:\n",
    "            l = file.read().split(\"\\n\")\n",
    "            l.pop(-1)\n",
    "            l.pop(0)\n",
    "            im_len = -1\n",
    "            l = np.array([[float(x) for x in i.split(\",\")] for i in l])\n",
    "            l = np.array([[n, min(m[::2]), min(m[1::2]), max(m[::2]), max(m[1::2])] for n, m in enumerate(l)])\n",
    "            X[vot_class] = l\n",
    "    return X"
   ]
  },
  {
   "cell_type": "code",
   "execution_count": 130,
   "metadata": {
    "ExecuteTime": {
     "end_time": "2018-08-14T09:01:36.248225Z",
     "start_time": "2018-08-14T09:01:36.063765Z"
    }
   },
   "outputs": [],
   "source": [
    "y = read_full_gt()"
   ]
  },
  {
   "cell_type": "code",
   "execution_count": 171,
   "metadata": {
    "ExecuteTime": {
     "end_time": "2018-08-14T09:16:06.953068Z",
     "start_time": "2018-08-14T09:16:06.936531Z"
    }
   },
   "outputs": [
    {
     "data": {
      "text/plain": [
       "(array([  0.  , 441.66, 372.33, 528.22, 451.47]),\n",
       " array([[  0, 634, 244, 736, 487,   0],\n",
       "        [  0, 694, 214, 843, 459,   0],\n",
       "        [  0,  75, 387, 154, 499,  14],\n",
       "        [  0, 208, 368, 322, 488,  14],\n",
       "        [  0, 296, 370, 406, 479,  14],\n",
       "        [  0, 435, 384, 536, 460,  14]]))"
      ]
     },
     "execution_count": 171,
     "metadata": {},
     "output_type": "execute_result"
    }
   ],
   "source": [
    "y[\"birds2\"][0], X[\"birds2\"][X[\"birds2\"][:, 0] == 0].astype(int)"
   ]
  },
  {
   "cell_type": "code",
   "execution_count": 46,
   "metadata": {
    "ExecuteTime": {
     "end_time": "2018-08-14T08:30:57.530090Z",
     "start_time": "2018-08-14T08:30:57.526096Z"
    }
   },
   "outputs": [],
   "source": [
    "def read_csv(file):\n",
    "    with open(file, 'r') as file:\n",
    "        l = file.read().split(\"\\n\")\n",
    "        l.pop(-1)\n",
    "        l = [[float(x) for x in y.split(\",\")[:-1]] for y in l]   \n",
    "        return torch.tensor(l)\n",
    "    "
   ]
  },
  {
   "cell_type": "code",
   "execution_count": 57,
   "metadata": {
    "ExecuteTime": {
     "end_time": "2018-08-14T08:33:03.668389Z",
     "start_time": "2018-08-14T08:33:03.662087Z"
    }
   },
   "outputs": [
    {
     "data": {
      "text/plain": [
       "list"
      ]
     },
     "execution_count": 57,
     "metadata": {},
     "output_type": "execute_result"
    }
   ],
   "source": [
    "birds2 = X[\"birds2\"]\n",
    "type(birds2)"
   ]
  },
  {
   "cell_type": "code",
   "execution_count": 16,
   "metadata": {
    "ExecuteTime": {
     "end_time": "2018-08-14T08:14:04.012880Z",
     "start_time": "2018-08-14T08:14:04.008953Z"
    }
   },
   "outputs": [
    {
     "data": {
      "text/plain": [
       "[224.0,\n",
       " 137.0874481201172,\n",
       " 121.8482437133789,\n",
       " 161.82241821289062,\n",
       " 136.82615661621094,\n",
       " 0.0011430482845753431,\n",
       " 0.15401728451251984,\n",
       " 77.0]"
      ]
     },
     "execution_count": 16,
     "metadata": {},
     "output_type": "execute_result"
    }
   ],
   "source": [
    "X[\"blanket\"]"
   ]
  },
  {
   "cell_type": "code",
   "execution_count": 176,
   "metadata": {
    "ExecuteTime": {
     "end_time": "2018-08-14T09:18:54.244966Z",
     "start_time": "2018-08-14T09:18:53.995680Z"
    }
   },
   "outputs": [],
   "source": [
    "import torch"
   ]
  },
  {
   "cell_type": "code",
   "execution_count": 177,
   "metadata": {
    "ExecuteTime": {
     "end_time": "2018-08-14T09:20:05.943642Z",
     "start_time": "2018-08-14T09:20:05.939119Z"
    }
   },
   "outputs": [],
   "source": [
    "D_in, H, D_out = 6, 100, 5"
   ]
  },
  {
   "cell_type": "code",
   "execution_count": 178,
   "metadata": {
    "ExecuteTime": {
     "end_time": "2018-08-14T09:20:20.507785Z",
     "start_time": "2018-08-14T09:20:20.495202Z"
    }
   },
   "outputs": [],
   "source": [
    "model = torch.nn.Sequential(\n",
    "    torch.nn.Linear(D_in, H),\n",
    "    torch.nn.ReLU(),\n",
    "    torch.nn.Linear(H, D_out),\n",
    ")"
   ]
  },
  {
   "cell_type": "code",
   "execution_count": null,
   "metadata": {},
   "outputs": [],
   "source": []
  }
 ],
 "metadata": {
  "kernelspec": {
   "display_name": "Python 3",
   "language": "python",
   "name": "python3"
  },
  "language_info": {
   "codemirror_mode": {
    "name": "ipython",
    "version": 3
   },
   "file_extension": ".py",
   "mimetype": "text/x-python",
   "name": "python",
   "nbconvert_exporter": "python",
   "pygments_lexer": "ipython3",
   "version": "3.6.6"
  },
  "notify_time": "5"
 },
 "nbformat": 4,
 "nbformat_minor": 2
}
