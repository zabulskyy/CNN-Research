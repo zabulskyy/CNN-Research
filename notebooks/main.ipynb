{
 "cells": [
  {
   "cell_type": "code",
   "execution_count": 1,
   "metadata": {
    "ExecuteTime": {
     "end_time": "2018-08-28T08:16:40.167160Z",
     "start_time": "2018-08-28T08:16:39.579091Z"
    },
    "cell_style": "center"
   },
   "outputs": [],
   "source": [
    "import torch\n",
    "import torchvision\n",
    "import numpy as np\n",
    "import os.path as osp\n",
    "import os\n",
    "import time\n",
    "import pandas as pd"
   ]
  },
  {
   "cell_type": "code",
   "execution_count": 2,
   "metadata": {
    "ExecuteTime": {
     "end_time": "2018-08-28T08:16:40.224657Z",
     "start_time": "2018-08-28T08:16:40.214269Z"
    },
    "cell_style": "center"
   },
   "outputs": [
    {
     "data": {
      "text/plain": [
       "False"
      ]
     },
     "execution_count": 2,
     "metadata": {},
     "output_type": "execute_result"
    }
   ],
   "source": [
    "CUDA = torch.cuda.is_available()\n",
    "CUDA"
   ]
  },
  {
   "cell_type": "code",
   "execution_count": 3,
   "metadata": {
    "ExecuteTime": {
     "end_time": "2018-08-28T08:16:44.080247Z",
     "start_time": "2018-08-28T08:16:44.066277Z"
    },
    "cell_style": "center"
   },
   "outputs": [
    {
     "name": "stdout",
     "output_type": "stream",
     "text": [
      "['person', 'bicycle', 'car', 'motorbike', 'aeroplane', 'bus', 'train', 'truck', 'boat', 'traffic light', 'fire hydrant', 'stop sign', 'parking meter', 'bench', 'bird', 'cat', 'dog', 'horse', 'sheep', 'cow', 'elephant', 'bear', 'zebra', 'giraffe', 'backpack', 'umbrella', 'handbag', 'tie', 'suitcase', 'frisbee', 'skis', 'snowboard', 'sports ball', 'kite', 'baseball bat', 'baseball glove', 'skateboard', 'surfboard', 'tennis racket', 'bottle', 'wine glass', 'cup', 'fork', 'knife', 'spoon', 'bowl', 'banana', 'apple', 'sandwich', 'orange', 'broccoli', 'carrot', 'hot dog', 'pizza', 'donut', 'cake', 'chair', 'sofa', 'pottedplant', 'bed', 'diningtable', 'toilet', 'tvmonitor', 'laptop', 'mouse', 'remote', 'keyboard', 'cell phone', 'microwave', 'oven', 'toaster', 'sink', 'refrigerator', 'book', 'clock', 'vase', 'scissors', 'teddy bear', 'hair drier', 'toothbrush']\n",
      "['blanket', 'bolt2', 'traffic', 'ball1', 'leaves', 'pedestrian1', 'singer3', 'helicopter', 'godfather', 'soccer1', 'book', 'tunnel', 'gymnastics1', 'basketball', 'birds1', 'car1', 'ball2', 'birds2', 'motocross1', 'bmx', 'gymnastics2', 'fish3', 'motocross2', 'soccer2', 'octopus', 'fernando', 'shaking', 'crossing', 'singer2', 'soldier', 'pedestrian2', 'nature', 'butterfly', 'road', 'iceskater2', 'sphere', 'fish2', 'graduate', 'marching', 'rabbit', 'car2', 'matrix', 'girl', 'tiger', 'gymnastics4', 'wiper', 'racing', 'dinosaur', 'bolt1', 'hand', 'handball1', 'bag', 'sheep', 'iceskater1', 'fish1', 'singer1', 'gymnastics3', 'fish4', 'glove', 'handball2']\n"
     ]
    }
   ],
   "source": [
    "# GLOBALS\n",
    "# vot_path = \"../../../vot2016/\"\n",
    "vot_path = \"/home/zabulskyy/Datasets/vot2016/\"\n",
    "yolo_pred_path = \"../yolo_predictions/extended\"\n",
    "# yolo_pred_path = \"/mnt/sshfs/YOLO-tracker/yolo_predictions/extended\"\n",
    "\n",
    "# coefficents of the parameters for computing energy\n",
    "crit_vals = {\n",
    "    \"iou\": 1,\n",
    "    \"cc\": 1,               # class_correspondence\n",
    "    \"id\": 1,               # initial dist \n",
    "    \"vd\": 1                # vector dist\n",
    "}\n",
    "\n",
    "classes = ['person', 'bicycle', 'car', 'motorbike', 'aeroplane', 'bus', 'train', 'truck', 'boat', 'traffic light', 'fire hydrant', 'stop sign', 'parking meter', 'bench', 'bird', 'cat', 'dog', 'horse', 'sheep', 'cow', 'elephant', 'bear', 'zebra', 'giraffe', 'backpack', 'umbrella', 'handbag', 'tie', 'suitcase', 'frisbee', 'skis', 'snowboard', 'sports ball', 'kite', 'baseball bat', 'baseball glove', 'skateboard', 'surfboard', 'tennis racket', 'bottle', 'wine glass', 'cup', 'fork', 'knife', 'spoon', 'bowl', 'banana', 'apple', 'sandwich', 'orange', 'broccoli', 'carrot', 'hot dog', 'pizza', 'donut', 'cake', 'chair', 'sofa', 'pottedplant', 'bed', 'diningtable', 'toilet', 'tvmonitor', 'laptop', 'mouse', 'remote', 'keyboard', 'cell phone', 'microwave', 'oven', 'toaster', 'sink', 'refrigerator', 'book', 'clock', 'vase', 'scissors', 'teddy bear', 'hair drier', 'toothbrush']\n",
    "['blanket', 'bolt2', 'traffic', 'ball1', 'leaves', 'pedestrian1', 'singer3', 'helicopter', 'godfather', 'soccer1', 'book', 'tunnel', 'gymnastics1', 'basketball', 'birds1', 'car1', 'ball2', 'birds2', 'motocross1', 'bmx', 'gymnastics2', 'fish3', 'motocross2', 'soccer2', 'octopus', 'fernando', 'shaking', 'crossing', 'singer2', 'soldier', 'pedestrian2', 'nature', 'butterfly', 'road', 'iceskater2', 'sphere', 'fish2', 'graduate', 'marching', 'rabbit', 'car2', 'matrix', 'girl', 'tiger', 'gymnastics4', 'wiper', 'racing', 'dinosaur', 'bolt1', 'hand', 'handball1', 'bag', 'sheep', 'iceskater1', 'fish1', 'singer1', 'gymnastics3', 'fish4', 'glove', 'handball2']\n",
    "\n",
    "print(classes)\n",
    "\n",
    "dist = torch.nn.modules.PairwiseDistance()\n",
    "\n",
    "vot_classes = [x for x in os.listdir(vot_path) if not x.endswith(\".txt\")]\n",
    "\n",
    "print(vot_classes)"
   ]
  },
  {
   "cell_type": "code",
   "execution_count": 4,
   "metadata": {
    "ExecuteTime": {
     "end_time": "2018-08-28T08:16:45.372030Z",
     "start_time": "2018-08-28T08:16:45.363763Z"
    }
   },
   "outputs": [],
   "source": [
    "def read_csv(file):\n",
    "    with open(file, 'r') as file:\n",
    "        l = file.read().split(\"\\n\")\n",
    "        l.pop(-1)\n",
    "        l = [[float(x) for x in y.split(\",\")[:-1]] for y in l]   \n",
    "        return torch.tensor(l)\n",
    "    "
   ]
  },
  {
   "cell_type": "code",
   "execution_count": 5,
   "metadata": {
    "ExecuteTime": {
     "end_time": "2018-08-28T08:16:46.455859Z",
     "start_time": "2018-08-28T08:16:46.439257Z"
    }
   },
   "outputs": [],
   "source": [
    "cm = read_csv(\"correlations.csv\")  # correlation matrix"
   ]
  },
  {
   "cell_type": "code",
   "execution_count": 7,
   "metadata": {
    "ExecuteTime": {
     "end_time": "2018-08-28T08:16:54.911141Z",
     "start_time": "2018-08-28T08:16:54.898269Z"
    },
    "scrolled": false
   },
   "outputs": [
    {
     "data": {
      "text/html": [
       "<div>\n",
       "<style scoped>\n",
       "    .dataframe tbody tr th:only-of-type {\n",
       "        vertical-align: middle;\n",
       "    }\n",
       "\n",
       "    .dataframe tbody tr th {\n",
       "        vertical-align: top;\n",
       "    }\n",
       "\n",
       "    .dataframe thead th {\n",
       "        text-align: right;\n",
       "    }\n",
       "</style>\n",
       "<table border=\"1\" class=\"dataframe\">\n",
       "  <thead>\n",
       "    <tr style=\"text-align: right;\">\n",
       "      <th></th>\n",
       "      <th>class</th>\n",
       "      <th>correlation</th>\n",
       "    </tr>\n",
       "  </thead>\n",
       "  <tbody>\n",
       "    <tr>\n",
       "      <th>0</th>\n",
       "      <td>car</td>\n",
       "      <td>1.000000</td>\n",
       "    </tr>\n",
       "    <tr>\n",
       "      <th>1</th>\n",
       "      <td>truck</td>\n",
       "      <td>0.231147</td>\n",
       "    </tr>\n",
       "    <tr>\n",
       "      <th>2</th>\n",
       "      <td>toaster</td>\n",
       "      <td>0.017915</td>\n",
       "    </tr>\n",
       "    <tr>\n",
       "      <th>3</th>\n",
       "      <td>boat</td>\n",
       "      <td>0.001517</td>\n",
       "    </tr>\n",
       "    <tr>\n",
       "      <th>4</th>\n",
       "      <td>donut</td>\n",
       "      <td>0.001507</td>\n",
       "    </tr>\n",
       "    <tr>\n",
       "      <th>5</th>\n",
       "      <td>mouse</td>\n",
       "      <td>-0.000086</td>\n",
       "    </tr>\n",
       "    <tr>\n",
       "      <th>6</th>\n",
       "      <td>bus</td>\n",
       "      <td>-0.000256</td>\n",
       "    </tr>\n",
       "    <tr>\n",
       "      <th>7</th>\n",
       "      <td>bowl</td>\n",
       "      <td>-0.000798</td>\n",
       "    </tr>\n",
       "    <tr>\n",
       "      <th>8</th>\n",
       "      <td>fork</td>\n",
       "      <td>-0.001966</td>\n",
       "    </tr>\n",
       "    <tr>\n",
       "      <th>9</th>\n",
       "      <td>cell phone</td>\n",
       "      <td>-0.002041</td>\n",
       "    </tr>\n",
       "  </tbody>\n",
       "</table>\n",
       "</div>"
      ],
      "text/plain": [
       "        class  correlation\n",
       "0         car     1.000000\n",
       "1       truck     0.231147\n",
       "2     toaster     0.017915\n",
       "3        boat     0.001517\n",
       "4       donut     0.001507\n",
       "5       mouse    -0.000086\n",
       "6         bus    -0.000256\n",
       "7        bowl    -0.000798\n",
       "8        fork    -0.001966\n",
       "9  cell phone    -0.002041"
      ]
     },
     "execution_count": 7,
     "metadata": {},
     "output_type": "execute_result"
    }
   ],
   "source": [
    "p, i = torch.sort(cm[2])\n",
    "p, i = reversed(p), reversed(i)\n",
    "table = [[classes[i[k]], float(p[k])] for k in range(len(cm[2]))]\n",
    "pd.DataFrame(table[:10], columns=[\"class\", \"correlation\"])"
   ]
  },
  {
   "cell_type": "code",
   "execution_count": 8,
   "metadata": {
    "ExecuteTime": {
     "end_time": "2018-08-28T08:16:59.076975Z",
     "start_time": "2018-08-28T08:16:59.066774Z"
    }
   },
   "outputs": [],
   "source": [
    "def dist2(box1, box2):\n",
    "    # euclidean distance between two boxes\n",
    "    x11, y11, x12, y12 = box1[1:5] if len(box1) != 4 else box1[:]\n",
    "    x21, y21, x22, y22 = box2[1:5] if len(box2) != 4 else box2[:]\n",
    "    x1, y1 = (x11 + x12) / 2, (y11 + y12) / 2\n",
    "    x2, y2 = (x21 + x22) / 2, (y21 + y22) / 2\n",
    "    X = (x1 - x2) ** 2\n",
    "    Y = (y1 - y2) ** 2\n",
    "    res = float((X + Y) ** 0.5)\n",
    "    return res\n",
    "\n",
    "def the_closest(box_to_compare, boxes):\n",
    "    # returns the closest box and its index\n",
    "    m, i = np.infty, 0\n",
    "    for n, box in enumerate(boxes):\n",
    "        d = dist2(box, box_to_compare)\n",
    "        if d < m:\n",
    "            m = float(d)\n",
    "            i = n\n",
    "    return boxes[i], i"
   ]
  },
  {
   "cell_type": "code",
   "execution_count": 33,
   "metadata": {
    "ExecuteTime": {
     "end_time": "2018-08-28T08:28:10.944755Z",
     "start_time": "2018-08-28T08:28:10.935574Z"
    }
   },
   "outputs": [],
   "source": [
    "def iou(boxA, boxB):\n",
    "    # IoU between two boxes\n",
    "    boxA = boxA[1:5] if len(boxA) != 4 else boxA\n",
    "    boxB = boxB[1:5] if len(boxB) != 4 else boxB\n",
    "\n",
    "    xA = max(boxA[0], boxB[0])\n",
    "    yA = max(boxA[1], boxB[1])\n",
    "    xB = min(boxA[2], boxB[2])\n",
    "    yB = min(boxA[3], boxB[3])\n",
    "    interArea = max(0, xB - xA + 1) * max(0, yB - yA + 1)\n",
    "    boxAArea = (boxA[2] - boxA[0] + 1) * (boxA[3] - boxA[1] + 1)\n",
    "    boxBArea = (boxB[2] - boxB[0] + 1) * (boxB[3] - boxB[1] + 1)\n",
    "    res = interArea / float(boxAArea + boxBArea - interArea)\n",
    "    return res\n",
    "\n",
    "def the_most_iou(box_to_compare, boxes):\n",
    "    # returns the box with greatest IoU and its index\n",
    "    M, i = 0, 0\n",
    "    for n, box in enumerate(boxes):\n",
    "        v = iou(box, box_to_compare)\n",
    "        if v > M:\n",
    "            M = float(v)\n",
    "            i = n\n",
    "    return boxes[i], i"
   ]
  },
  {
   "cell_type": "code",
   "execution_count": 10,
   "metadata": {
    "ExecuteTime": {
     "end_time": "2018-08-28T08:17:00.346210Z",
     "start_time": "2018-08-28T08:17:00.342403Z"
    }
   },
   "outputs": [],
   "source": [
    "def generate_subframes(row1, row2, width):\n",
    "    frame1, frame2 = int(row1[0]), int(row2[0])\n",
    "    diff = frame1 - frame2\n",
    "    if diff == 1:\n",
    "        return None\n",
    "    result = torch.zeros((frame2 - frame1 - 1, width))\n",
    "    # result[:, -1] = row1[-1]\n",
    "    step = (row1 - row2) / diff\n",
    "    for frame_n in range(frame2 - frame1 - 1):\n",
    "        result[frame_n] = row1 + (step) * (frame_n + 1)\n",
    "    return result"
   ]
  },
  {
   "cell_type": "code",
   "execution_count": 11,
   "metadata": {
    "ExecuteTime": {
     "end_time": "2018-08-28T08:17:00.906326Z",
     "start_time": "2018-08-28T08:17:00.899296Z"
    }
   },
   "outputs": [],
   "source": [
    "def merge_frames(*rows):\n",
    "    result = torch.zeros((1, 8))\n",
    "    n = len(rows)\n",
    "    for row in rows:\n",
    "        result += row\n",
    "    return result / n"
   ]
  },
  {
   "cell_type": "code",
   "execution_count": 12,
   "metadata": {
    "ExecuteTime": {
     "end_time": "2018-08-28T08:17:01.580968Z",
     "start_time": "2018-08-28T08:17:01.577053Z"
    }
   },
   "outputs": [],
   "source": [
    "def fill_first(tensor):\n",
    "    FIRST = tensor[0]\n",
    "    for i in range(int(FIRST[0]) - 1, -1, -1):\n",
    "        row = FIRST\n",
    "        row[0] = i\n",
    "        row = row.view((1, -1))\n",
    "        tensor = torch.cat((row, tensor))\n",
    "    return tensor"
   ]
  },
  {
   "cell_type": "code",
   "execution_count": 13,
   "metadata": {
    "ExecuteTime": {
     "end_time": "2018-08-28T08:17:02.131068Z",
     "start_time": "2018-08-28T08:17:02.119373Z"
    }
   },
   "outputs": [],
   "source": [
    "def fill_last(tensor, NUM_FRAMES):\n",
    "    last = tensor[tensor[:, 0] != 0][-1]\n",
    "    for i in range(int(last[0]) + 1, NUM_FRAMES):\n",
    "        row = last\n",
    "        row[0] = i\n",
    "        row = row.view((1, -1))\n",
    "        tensor[i] = row\n",
    "    return tensor"
   ]
  },
  {
   "cell_type": "code",
   "execution_count": 14,
   "metadata": {
    "ExecuteTime": {
     "end_time": "2018-08-28T08:17:02.703229Z",
     "start_time": "2018-08-28T08:17:02.696006Z"
    }
   },
   "outputs": [],
   "source": [
    "def most_frequent_class(results):\n",
    "    counts = np.bincount(results[:, -1])\n",
    "    return np.argmax(counts)"
   ]
  },
  {
   "cell_type": "code",
   "execution_count": 15,
   "metadata": {
    "ExecuteTime": {
     "end_time": "2018-08-28T08:17:03.647820Z",
     "start_time": "2018-08-28T08:17:03.631733Z"
    }
   },
   "outputs": [],
   "source": [
    "def interpolate(data):\n",
    "    # TODO: replace with built-in torch functionality\n",
    "    \"\"\"\n",
    "    interpolate gaps\n",
    "    choose one detection among multiple, by picking the closest one by the euclidean distance\n",
    "    ignore class labels\n",
    "    :param OUTPUT: tensor\n",
    "    :param NUM_FRAMES:\n",
    "    :param CUDA: bool - if cuda is available\n",
    "    :return: interpolated tensor\n",
    "    \"\"\"\n",
    "    OUTPUT = data[\"output\"]\n",
    "    NUM_FRAMES = data[\"num_frames\"]\n",
    "    CUDA = data[\"CUDA\"]\n",
    "\n",
    "    width = OUTPUT.size()[1]\n",
    "    result = torch.zeros((NUM_FRAMES, width))\n",
    "    if CUDA:\n",
    "        result = result.cuda()\n",
    "\n",
    "    if OUTPUT[0][0] != 0:\n",
    "        OUTPUT = fill_first(OUTPUT)\n",
    "\n",
    "    output_iter = 0\n",
    "    res_iter = 0\n",
    "    while res_iter != NUM_FRAMES:\n",
    "        if (output_iter > len(OUTPUT) - 1):\n",
    "            # break\n",
    "            result = fill_last(result, NUM_FRAMES)\n",
    "            break\n",
    "        if output_iter == OUTPUT.shape[0] - 1:\n",
    "            result[res_iter] = OUTPUT[output_iter]\n",
    "            output_iter += 1\n",
    "            res_iter += 1\n",
    "            continue\n",
    "\n",
    "        # next frame is interpolated\n",
    "        if OUTPUT[output_iter][0] == OUTPUT[output_iter + 1][0] - 1:\n",
    "            result[res_iter] = OUTPUT[output_iter]\n",
    "            output_iter += 1\n",
    "            res_iter += 1\n",
    "            continue\n",
    "\n",
    "        # missing detection on some frames, fill with missing\n",
    "        if OUTPUT[output_iter][0] + 1 < OUTPUT[output_iter + 1][0]:\n",
    "            subframes = generate_subframes(\n",
    "                OUTPUT[output_iter], OUTPUT[output_iter + 1], width)\n",
    "            result[res_iter] = OUTPUT[output_iter]\n",
    "            for subframe in subframes:\n",
    "                res_iter += 1\n",
    "                result[res_iter] = subframe\n",
    "            output_iter += 1\n",
    "            res_iter += 1\n",
    "            continue\n",
    "\n",
    "        # this frame contains multiple detections, have to choose one\n",
    "        if OUTPUT[output_iter][0] == OUTPUT[output_iter + 1][0]:\n",
    "            frame = OUTPUT[output_iter][0]\n",
    "            to_cut = OUTPUT[OUTPUT[:, 0] == frame]\n",
    "            closest, _ = the_most_iou(result[res_iter - 1], to_cut)\n",
    "            result[res_iter] = closest\n",
    "\n",
    "            output_iter += len(to_cut)\n",
    "            res_iter += 1\n",
    "\n",
    "            if output_iter >= OUTPUT.shape[0] - 1:\n",
    "                break\n",
    "\n",
    "            # missing detection on some frames, fill with missing\n",
    "            if OUTPUT[output_iter - 1][0] + 1 < OUTPUT[output_iter][0]:\n",
    "                subframes = generate_subframes(\n",
    "                    result[res_iter - 1], OUTPUT[output_iter], width)\n",
    "                for subframe in subframes:\n",
    "                    result[res_iter] = subframe\n",
    "                    res_iter += 1\n",
    "            continue\n",
    "    return result"
   ]
  },
  {
   "cell_type": "code",
   "execution_count": 16,
   "metadata": {
    "ExecuteTime": {
     "end_time": "2018-08-28T08:17:04.301475Z",
     "start_time": "2018-08-28T08:17:04.282375Z"
    }
   },
   "outputs": [],
   "source": [
    "def read_gt(vot_class, vot_path=vot_path, force_square=True):\n",
    "    # read the groundtruth for a precise vot class\n",
    "    gt_file = osp.join(vot_path, vot_class, \"groundtruth.txt\")\n",
    "    with open(gt_file, 'r') as file:\n",
    "        l =file.read().split(\"\\n\")\n",
    "        l.pop(-1)\n",
    "        l = [[float(x) for x in y.split(\",\")] for y in l]\n",
    "        if force_square:\n",
    "            l = [[min(m[::2]), min(m[1::2]), max(m[::2]), max(m[1::2])] for m in l]   \n",
    "        return torch.tensor(l)\n",
    "    \n",
    "def read_full_gt(vot_path=vot_path, force_square=True):\n",
    "    # read the groundtruth for a full vot dataset\n",
    "    vot_classes = [x for x in os.listdir(vot_path) if not x.endswith(\".txt\")]\n",
    "    X = list()\n",
    "    for vot_class in vot_classes:\n",
    "        gt_file = osp.join(vot_path, vot_class, \"groundtruth.txt\")\n",
    "        with open(gt_file, 'r') as file:\n",
    "            l =file.read().split(\"\\n\")\n",
    "            l.pop(-1)\n",
    "            l = [[float(x) for x in y.split(\",\")] for y in l]\n",
    "            if force_square:\n",
    "                l = [[min(m[::2]), min(m[1::2]), max(m[::2]), max(m[1::2])] for m in l]   \n",
    "        X.append(l)\n",
    "    return torch.tensor(X)"
   ]
  },
  {
   "cell_type": "code",
   "execution_count": 17,
   "metadata": {
    "ExecuteTime": {
     "end_time": "2018-08-28T08:17:05.735344Z",
     "start_time": "2018-08-28T08:17:05.721990Z"
    }
   },
   "outputs": [],
   "source": [
    "def read_yolo_pred(vot_class, yolo_pred_path=yolo_pred_path, pred_format=\"csv\", first_len=True):\n",
    "    # read offline-made YOLO predictions for a single vot class\n",
    "    yolo_pred_file = osp.join(yolo_pred_path, vot_class + \".\" + pred_format)\n",
    "    with open(yolo_pred_file, 'r') as file:\n",
    "        l =file.read().split(\"\\n\")\n",
    "        l.pop(-1)\n",
    "        im_len = -1\n",
    "        if first_len:\n",
    "            im_len = float(l.pop(0))\n",
    "        l = [[float(x) for x in y.split(\",\")] for y in l]            \n",
    "        return torch.tensor(l), im_len\n",
    "    "
   ]
  },
  {
   "cell_type": "code",
   "execution_count": 18,
   "metadata": {
    "ExecuteTime": {
     "end_time": "2018-08-28T08:17:31.730553Z",
     "start_time": "2018-08-28T08:17:06.421062Z"
    }
   },
   "outputs": [
    {
     "name": "stdout",
     "output_type": "stream",
     "text": [
      "blanket bolt2 traffic ball1 leaves pedestrian1 singer3 helicopter godfather soccer1 book tunnel gymnastics1 basketball birds1 car1 ball2 birds2 motocross1 bmx gymnastics2 fish3 motocross2 soccer2 octopus fernando shaking crossing singer2 soldier pedestrian2 nature butterfly road iceskater2 sphere fish2 graduate marching rabbit car2 matrix girl tiger gymnastics4 wiper racing dinosaur bolt1 hand handball1 bag sheep iceskater1 fish1 singer1 gymnastics3 fish4 glove handball2 "
     ]
    }
   ],
   "source": [
    "# read all YOLO predictions\n",
    "yolo_pred = dict()\n",
    "\n",
    "for i in vot_classes:\n",
    "    print(i, end=\" \")\n",
    "    yolo_pred[i] = read_yolo_pred(i)\n",
    "    "
   ]
  },
  {
   "cell_type": "code",
   "execution_count": 19,
   "metadata": {
    "ExecuteTime": {
     "end_time": "2018-08-28T08:17:31.739634Z",
     "start_time": "2018-08-28T08:17:31.732387Z"
    }
   },
   "outputs": [],
   "source": [
    "# functional to the offline-calculating of the class correlations\n",
    "\n",
    "# compute class correlation\n",
    "def ccc(classes_probs):\n",
    "    # classes_probs.shape = (bboxes, classes)\n",
    "    corr_mat = torch.zeros((classes_probs.shape[1], classes_probs.shape[1], ))\n",
    "\n",
    "    for cls in range(len(classes_probs[0])):\n",
    "        col = classes_probs[:, cls].view((-1, 1))\n",
    "        tX = col * classes_probs\n",
    "        sX = torch.sum(tX, dim=0)\n",
    "        corr_mat[cls] = sX\n",
    "    return corr_mat\n",
    "\n",
    "def corr(col1, col2):\n",
    "    mean1, mean2 = torch.mean(col1), torch.mean(col2)\n",
    "    cm1, cm2 = col1 - mean1, col2 - mean2\n",
    "    top = sum(cm1 * cm2)\n",
    "    bot = torch.sqrt(sum(cm1 ** 2) * sum(cm2 ** 2))\n",
    "    return top / bot\n",
    "\n",
    "# compute class correlation coefficient\n",
    "def cccc(classes_probs):\n",
    "    # classes_probs.shape = (bboxes, classes)\n",
    "    corr_mat = torch.zeros((classes_probs.shape[1], classes_probs.shape[1], ))\n",
    "    num_classes = len(classes_probs[0])\n",
    "    for cls1 in range(num_classes):\n",
    "        col1 = classes_probs[:, cls1].view((-1, 1))\n",
    "        for cls2 in range(cls1 + 1, num_classes):\n",
    "            print(\"{}.{} / {}\".format(cls1+1, cls2+1, num_classes))\n",
    "            col2 = classes_probs[:, cls2].view((-1, 1))\n",
    "            _corr = corr(col1, col2)\n",
    "#             _corr = np.corrcoef(col1, col2)\n",
    "            corr_mat[cls1, cls2] = _corr\n",
    "    return corr_mat"
   ]
  },
  {
   "cell_type": "code",
   "execution_count": 20,
   "metadata": {
    "ExecuteTime": {
     "end_time": "2018-08-28T08:17:31.746591Z",
     "start_time": "2018-08-28T08:17:31.741879Z"
    }
   },
   "outputs": [],
   "source": [
    "# read all yolo predictions and store in a single tensor\n",
    "def read_all_yolo_preds(path=yolo_pred_path, pred_format=\"csv\"):\n",
    "    X = []\n",
    "    for vot_class in os.listdir(path):\n",
    "        yolo_pred_file = osp.join(path, vot_class)\n",
    "        with open(yolo_pred_file, 'r') as file:\n",
    "            l = file.read().split(\"\\n\")\n",
    "            l.pop(-1)\n",
    "            l.pop(0)\n",
    "            im_len = -1\n",
    "            for i in l:\n",
    "                X.append([float(x) for x in i.split(\",\")])\n",
    "    X = torch.tensor(X)\n",
    "    return X"
   ]
  },
  {
   "cell_type": "code",
   "execution_count": 21,
   "metadata": {
    "ExecuteTime": {
     "end_time": "2018-08-28T08:17:31.752382Z",
     "start_time": "2018-08-28T08:17:31.748783Z"
    }
   },
   "outputs": [],
   "source": [
    "def eval_single_class_corr(cls1 : int, cls2 : int, correlations=cm):\n",
    "    # calculate correlations between two classes\n",
    "    return float(cm[cls1][cls2])\n",
    "\n",
    "def eval_whole_class_corr(cls1, cls2, correlations=cm):\n",
    "    # TODO: consider if this worth it\n",
    "    # too complicated yet\n",
    "    pass"
   ]
  },
  {
   "cell_type": "code",
   "execution_count": 22,
   "metadata": {
    "ExecuteTime": {
     "end_time": "2018-08-28T08:17:31.757987Z",
     "start_time": "2018-08-28T08:17:31.754708Z"
    }
   },
   "outputs": [],
   "source": [
    "def normalise(tensor):\n",
    "    mean = torch.mean(tensor)\n",
    "    std = torch.std(tensor)\n",
    "    return (tensor - mean) / std"
   ]
  },
  {
   "cell_type": "code",
   "execution_count": 23,
   "metadata": {
    "ExecuteTime": {
     "end_time": "2018-08-28T08:17:31.763654Z",
     "start_time": "2018-08-28T08:17:31.760243Z"
    }
   },
   "outputs": [],
   "source": [
    "def write_csv(matrix, file=\"correlations.csv\"):\n",
    "    for i in matrix.tolist():\n",
    "        for j in i:\n",
    "            print(j, sep=\", \", end=\", \", file=open(file, \"a+\"))\n",
    "        print(file=open(file, \"a+\"))"
   ]
  },
  {
   "cell_type": "code",
   "execution_count": 24,
   "metadata": {
    "ExecuteTime": {
     "end_time": "2018-08-28T08:17:31.770692Z",
     "start_time": "2018-08-28T08:17:31.765745Z"
    }
   },
   "outputs": [],
   "source": [
    "def eval_energy(bb1, bb2, cv=crit_vals, ban_negative_cc=True):\n",
    "    box1, box2 = bb1[1:5], bb2[1:5]\n",
    "    cls1, cls2 = bb1[6: ], bb2[6: ]  # 5'th column is the precision of the bbox\n",
    "    class1, class2 = torch.argmax(cls1), torch.argmax(cls2)\n",
    "    \n",
    "    _iou = iou(box1, box2)\n",
    "    _cc = eval_single_class_corr(class1, class2)\n",
    "    _vd = vec_dist(bb1, bb2)\n",
    "    \n",
    "    return {\"iou\": _iou, \"cc\": _cc, \"vd\": 1 / _vd}"
   ]
  },
  {
   "cell_type": "code",
   "execution_count": 25,
   "metadata": {
    "ExecuteTime": {
     "end_time": "2018-08-28T08:17:31.779937Z",
     "start_time": "2018-08-28T08:17:31.773031Z"
    }
   },
   "outputs": [],
   "source": [
    "def cebtf(frame1, frame2, cv=crit_vals, ban_negative_cc=True):  \n",
    "    # calculate_energies_between_two_frames\n",
    "    _boxes = torch.zeros((len(frame1)))\n",
    "    _energies = torch.zeros((len(frame1)))\n",
    "    for i in range(len(frame1)):\n",
    "        max_energy = 0\n",
    "        max_energy_index = 0\n",
    "        \n",
    "        ious = torch.zeros(len(frame2))\n",
    "        ccs = torch.zeros(len(frame2))\n",
    "        vds = torch.zeros(len(frame2))\n",
    "        \n",
    "        for j in range(len(frame2)):\n",
    "            energy = eval_energy(frame1[i], frame2[j], cv=crit_vals, ban_negative_cc=ban_negative_cc)\n",
    "            \n",
    "            if ban_negative_cc and energy[\"cc\"] < 0:        \n",
    "                pass  # values are already 0\n",
    "            else:          \n",
    "                ious[j] = energy[\"iou\"] * crit_vals[\"iou\"]\n",
    "                ccs[j] = energy[\"cc\"] * crit_vals[\"cc\"]\n",
    "                vds[j] = energy[\"vd\"] * crit_vals[\"vd\"]\n",
    "                \n",
    "        # normalize\n",
    "        ious = ious / (torch.max(ious) + 1e-10)\n",
    "        ccs = ccs / (torch.max(ccs) + 1e-10)\n",
    "        vds = vds / (torch.max(vds) + 1e-10)\n",
    "        \n",
    "        energies = sum((ious, ccs, vds))\n",
    "\n",
    "        _boxes[i] = torch.argmax(energies)\n",
    "        _energies[i] = torch.max(energies)\n",
    "    return _boxes, _energies\n",
    "          "
   ]
  },
  {
   "cell_type": "code",
   "execution_count": 26,
   "metadata": {
    "ExecuteTime": {
     "end_time": "2018-08-28T08:17:31.787090Z",
     "start_time": "2018-08-28T08:17:31.781898Z"
    }
   },
   "outputs": [],
   "source": [
    "def pp_first(data):\n",
    "    # detects the closest object to FIRST gt box and removes the rest on the FIRST frame\n",
    "    CUDA = data[\"CUDA\"]\n",
    "    output = data[\"output\"]\n",
    "    first = data[\"first\"]\n",
    "\n",
    "    tcc, _ = the_most_iou(first, output[:, 1:5])\n",
    "    \n",
    "    # only detections close to the true FIRST frame    \n",
    "    output = replace_first_frame(tcc, output)\n",
    "    return output\n",
    "\n",
    "def replace_first_frame(to_replace, OUTPUT):\n",
    "    to_replace = to_replace[:4]\n",
    "    OUTPUT = OUTPUT[OUTPUT[:, 0] != 0]\n",
    "    to_replace = to_replace.view((1, -1))\n",
    "    _to_replace = torch.zeros((1, 8))\n",
    "    _to_replace[0][1:5] = to_replace[0]\n",
    "    return torch.cat((_to_replace, OUTPUT))"
   ]
  },
  {
   "cell_type": "code",
   "execution_count": 27,
   "metadata": {
    "ExecuteTime": {
     "end_time": "2018-08-28T08:17:31.793673Z",
     "start_time": "2018-08-28T08:17:31.789149Z"
    }
   },
   "outputs": [],
   "source": [
    "def get_first(vot_class):\n",
    "    with open(osp.join(vot_path, vot_class, \"groundtruth.txt\"), 'r') as file:\n",
    "        l = [float(x) for x in file.read().split(\"\\n\")[0].split(\",\")]\n",
    "        X, Y = l[::2], l[1::2]\n",
    "        l = [min(X), min(Y), max(X), max(Y)]\n",
    "        l = torch.tensor([float(x) for x in l])\n",
    "        return l"
   ]
  },
  {
   "cell_type": "code",
   "execution_count": 28,
   "metadata": {
    "ExecuteTime": {
     "end_time": "2018-08-28T08:17:31.800420Z",
     "start_time": "2018-08-28T08:17:31.795773Z"
    }
   },
   "outputs": [],
   "source": [
    "def initial_energy(first_boxes, method=\"ltd2\", cv=crit_vals, ): \n",
    "    l = first_boxes.shape[0]\n",
    "    ies = torch.zeros(l)  # initial_energies\n",
    "    for i in range(l):\n",
    "        for j in range(l):\n",
    "            ie = dist2(first_boxes[i],first_boxes[j])\n",
    "            ies[i] += ie\n",
    "    ies = 1 / ies * crit_vals[\"id\"]\n",
    "    return ies\n",
    "            "
   ]
  },
  {
   "cell_type": "code",
   "execution_count": 29,
   "metadata": {
    "ExecuteTime": {
     "end_time": "2018-08-28T08:17:31.809136Z",
     "start_time": "2018-08-28T08:17:31.802867Z"
    }
   },
   "outputs": [],
   "source": [
    "def vec_dist(vec1, vec2, dist=dist):\n",
    "    \n",
    "    vd = None\n",
    "    \n",
    "    if len(vec1) > 80:\n",
    "        vec1[torch.argmax(vec1[6:]) + 6] = 1\n",
    "        vec2[torch.argmax(vec2[6:]) + 6] = 1\n",
    "        vd = dist(vec1[6:].view([1, -1]), vec2[6:].view([1, -1]))\n",
    "    else:\n",
    "        vec1[torch.argmax(vec1)] = 1\n",
    "        vec2[torch.argmax(vec2)] = 1\n",
    "        vd = dist(vec1.view([1, -1]), vec2.view([1, -1])) \n",
    "    return vd\n",
    "\n",
    "def the_closest_vec(row_to_compare, rows):\n",
    "    m, i = np.infty, 0\n",
    "    for n, row in enumerate(rows):\n",
    "        d = vec_dist(row, row_to_compare)\n",
    "        if d < m:\n",
    "            m = float(d)\n",
    "            i = n\n",
    "    return rows[i], i\n",
    "    "
   ]
  },
  {
   "cell_type": "code",
   "execution_count": 35,
   "metadata": {
    "ExecuteTime": {
     "end_time": "2018-08-28T09:15:45.866137Z",
     "start_time": "2018-08-28T09:15:45.855950Z"
    },
    "cell_style": "center"
   },
   "outputs": [],
   "source": [
    "def do_dp(vot_class, total_res, cv=crit_vals):\n",
    "    # do dynamic programming\n",
    "    # core function \n",
    "    yp, imlen = yolo_pred[vot_class]  # yolo predictions\n",
    "    imlen = int(imlen)\n",
    "    \n",
    "    data = dict()\n",
    "    data[\"output\"] = yp\n",
    "    data[\"num_frames\"] = int(imlen)\n",
    "    data[\"CUDA\"] = CUDA\n",
    "    data[\"first\"] = get_first(vot_class)\n",
    "    \n",
    "    if CUDA:\n",
    "        data[\"output\"] = data[\"output\"].cuda()\n",
    "        data[\"first\"] = data[\"first\"].cuda()\n",
    "    \n",
    "    frames_with_detection = sorted(list(set(data[\"output\"][:,0].tolist())))\n",
    "    ffwdi = frames_with_detection[0]  # first_frame_with_detection_index\n",
    "    first_boxes = data[\"output\"][data[\"output\"][:, 0] == ffwdi]\n",
    "    path = torch.zeros((len(first_boxes), imlen))\n",
    "    energies = torch.zeros((len(first_boxes), imlen))\n",
    "    \n",
    "    prev_boxes = first_boxes\n",
    "    path[:, 0] = first_boxes[0][0]\n",
    "    \n",
    "    \n",
    "    # calculate energies\n",
    "    for n, i in enumerate(frames_with_detection[:]):\n",
    "        i_boxes = data[\"output\"][data[\"output\"][:, 0] == i]\n",
    "        \n",
    "        boxes, energy = cebtf(prev_boxes, i_boxes, cv=cv)\n",
    "        \n",
    "        path[:, int(n)] = boxes\n",
    "        energies[:, int(n)] += energy\n",
    "        \n",
    "        prev_boxes = i_boxes[boxes.long()]\n",
    "        \n",
    "    verdict = torch.sum(energies, dim=1)\n",
    "    \n",
    "    # init energies   \n",
    "    ie = initial_energy(first_boxes, method=\"ltd2\")\n",
    "    ie = ie / max(ie) * max(verdict) * crit_vals[\"id\"]\n",
    "    \n",
    "    if verdict.shape != torch.Size([1]):\n",
    "        verdict += ie\n",
    "        \n",
    "    first_bb_candidates = (verdict == torch.max(verdict)).nonzero().view(-1).tolist()\n",
    "    res_i = path[first_bb_candidates].view(-1).int()\n",
    "    res = torch.zeros((len(frames_with_detection), 5))\n",
    "\n",
    "    # prepare for interpolation\n",
    "    for n, i in enumerate(frames_with_detection[:]):\n",
    "        cfp = data[\"output\"][data[\"output\"][:, 0] == i]  # current_frame_predictions\n",
    "        index = res_i[n]\n",
    "        cp = cfp[index] # chosen_prediction\n",
    "        res[int(n)] = cp[:5]\n",
    "\n",
    "    total_res[vot_class] = interpolate(data)[:, 1:5].tolist()\n",
    "    \n",
    "    return total_res\n",
    "    "
   ]
  },
  {
   "cell_type": "code",
   "execution_count": 36,
   "metadata": {
    "ExecuteTime": {
     "end_time": "2018-08-28T09:15:47.062161Z",
     "start_time": "2018-08-28T09:15:47.059579Z"
    },
    "cell_style": "center"
   },
   "outputs": [],
   "source": [
    "total_res=dict()"
   ]
  },
  {
   "cell_type": "code",
   "execution_count": 37,
   "metadata": {
    "ExecuteTime": {
     "end_time": "2018-08-28T09:16:52.944521Z",
     "start_time": "2018-08-28T09:15:47.553637Z"
    },
    "cell_style": "center"
   },
   "outputs": [
    {
     "ename": "KeyboardInterrupt",
     "evalue": "",
     "output_type": "error",
     "traceback": [
      "\u001b[0;31m---------------------------------------------------------------------------\u001b[0m",
      "\u001b[0;31mKeyboardInterrupt\u001b[0m                         Traceback (most recent call last)",
      "\u001b[0;32m<ipython-input-37-e1dc4ae26950>\u001b[0m in \u001b[0;36m<module>\u001b[0;34m()\u001b[0m\n\u001b[1;32m      1\u001b[0m \u001b[0;31m# testing on a single vot example\u001b[0m\u001b[0;34m\u001b[0m\u001b[0;34m\u001b[0m\u001b[0m\n\u001b[1;32m      2\u001b[0m \u001b[0;32mfor\u001b[0m \u001b[0mvot_class\u001b[0m \u001b[0;32min\u001b[0m \u001b[0;34m[\u001b[0m\u001b[0;34m\"birds2\"\u001b[0m\u001b[0;34m]\u001b[0m\u001b[0;34m:\u001b[0m\u001b[0;34m\u001b[0m\u001b[0m\n\u001b[0;32m----> 3\u001b[0;31m     \u001b[0mdo_dp\u001b[0m\u001b[0;34m(\u001b[0m\u001b[0mvot_class\u001b[0m\u001b[0;34m,\u001b[0m \u001b[0mtotal_res\u001b[0m\u001b[0;34m,\u001b[0m \u001b[0mcrit_vals\u001b[0m\u001b[0;34m)\u001b[0m\u001b[0;34m\u001b[0m\u001b[0m\n\u001b[0m\u001b[1;32m      4\u001b[0m \u001b[0;34m\u001b[0m\u001b[0m\n",
      "\u001b[0;32m<ipython-input-35-fc072ab92eb3>\u001b[0m in \u001b[0;36mdo_dp\u001b[0;34m(vot_class, total_res, cv)\u001b[0m\n\u001b[1;32m     29\u001b[0m         \u001b[0mi_boxes\u001b[0m \u001b[0;34m=\u001b[0m \u001b[0mdata\u001b[0m\u001b[0;34m[\u001b[0m\u001b[0;34m\"output\"\u001b[0m\u001b[0;34m]\u001b[0m\u001b[0;34m[\u001b[0m\u001b[0mdata\u001b[0m\u001b[0;34m[\u001b[0m\u001b[0;34m\"output\"\u001b[0m\u001b[0;34m]\u001b[0m\u001b[0;34m[\u001b[0m\u001b[0;34m:\u001b[0m\u001b[0;34m,\u001b[0m \u001b[0;36m0\u001b[0m\u001b[0;34m]\u001b[0m \u001b[0;34m==\u001b[0m \u001b[0mi\u001b[0m\u001b[0;34m]\u001b[0m\u001b[0;34m\u001b[0m\u001b[0m\n\u001b[1;32m     30\u001b[0m \u001b[0;34m\u001b[0m\u001b[0m\n\u001b[0;32m---> 31\u001b[0;31m         \u001b[0mboxes\u001b[0m\u001b[0;34m,\u001b[0m \u001b[0menergy\u001b[0m \u001b[0;34m=\u001b[0m \u001b[0mcebtf\u001b[0m\u001b[0;34m(\u001b[0m\u001b[0mprev_boxes\u001b[0m\u001b[0;34m,\u001b[0m \u001b[0mi_boxes\u001b[0m\u001b[0;34m,\u001b[0m \u001b[0mcv\u001b[0m\u001b[0;34m=\u001b[0m\u001b[0mcv\u001b[0m\u001b[0;34m)\u001b[0m\u001b[0;34m\u001b[0m\u001b[0m\n\u001b[0m\u001b[1;32m     32\u001b[0m \u001b[0;34m\u001b[0m\u001b[0m\n\u001b[1;32m     33\u001b[0m         \u001b[0mpath\u001b[0m\u001b[0;34m[\u001b[0m\u001b[0;34m:\u001b[0m\u001b[0;34m,\u001b[0m \u001b[0mint\u001b[0m\u001b[0;34m(\u001b[0m\u001b[0mn\u001b[0m\u001b[0;34m)\u001b[0m\u001b[0;34m]\u001b[0m \u001b[0;34m=\u001b[0m \u001b[0mboxes\u001b[0m\u001b[0;34m\u001b[0m\u001b[0m\n",
      "\u001b[0;32m<ipython-input-25-6308176d23ef>\u001b[0m in \u001b[0;36mcebtf\u001b[0;34m(frame1, frame2, cv, ban_negative_cc)\u001b[0m\n\u001b[1;32m     12\u001b[0m \u001b[0;34m\u001b[0m\u001b[0m\n\u001b[1;32m     13\u001b[0m         \u001b[0;32mfor\u001b[0m \u001b[0mj\u001b[0m \u001b[0;32min\u001b[0m \u001b[0mrange\u001b[0m\u001b[0;34m(\u001b[0m\u001b[0mlen\u001b[0m\u001b[0;34m(\u001b[0m\u001b[0mframe2\u001b[0m\u001b[0;34m)\u001b[0m\u001b[0;34m)\u001b[0m\u001b[0;34m:\u001b[0m\u001b[0;34m\u001b[0m\u001b[0m\n\u001b[0;32m---> 14\u001b[0;31m             \u001b[0menergy\u001b[0m \u001b[0;34m=\u001b[0m \u001b[0meval_energy\u001b[0m\u001b[0;34m(\u001b[0m\u001b[0mframe1\u001b[0m\u001b[0;34m[\u001b[0m\u001b[0mi\u001b[0m\u001b[0;34m]\u001b[0m\u001b[0;34m,\u001b[0m \u001b[0mframe2\u001b[0m\u001b[0;34m[\u001b[0m\u001b[0mj\u001b[0m\u001b[0;34m]\u001b[0m\u001b[0;34m,\u001b[0m \u001b[0mcv\u001b[0m\u001b[0;34m=\u001b[0m\u001b[0mcrit_vals\u001b[0m\u001b[0;34m,\u001b[0m \u001b[0mban_negative_cc\u001b[0m\u001b[0;34m=\u001b[0m\u001b[0mban_negative_cc\u001b[0m\u001b[0;34m)\u001b[0m\u001b[0;34m\u001b[0m\u001b[0m\n\u001b[0m\u001b[1;32m     15\u001b[0m \u001b[0;34m\u001b[0m\u001b[0m\n\u001b[1;32m     16\u001b[0m             \u001b[0;32mif\u001b[0m \u001b[0mban_negative_cc\u001b[0m \u001b[0;32mand\u001b[0m \u001b[0menergy\u001b[0m\u001b[0;34m[\u001b[0m\u001b[0;34m\"cc\"\u001b[0m\u001b[0;34m]\u001b[0m \u001b[0;34m<\u001b[0m \u001b[0;36m0\u001b[0m\u001b[0;34m:\u001b[0m\u001b[0;34m\u001b[0m\u001b[0m\n",
      "\u001b[0;32m<ipython-input-24-350013bfe53c>\u001b[0m in \u001b[0;36meval_energy\u001b[0;34m(bb1, bb2, cv, ban_negative_cc)\u001b[0m\n\u001b[1;32m      1\u001b[0m \u001b[0;32mdef\u001b[0m \u001b[0meval_energy\u001b[0m\u001b[0;34m(\u001b[0m\u001b[0mbb1\u001b[0m\u001b[0;34m,\u001b[0m \u001b[0mbb2\u001b[0m\u001b[0;34m,\u001b[0m \u001b[0mcv\u001b[0m\u001b[0;34m=\u001b[0m\u001b[0mcrit_vals\u001b[0m\u001b[0;34m,\u001b[0m \u001b[0mban_negative_cc\u001b[0m\u001b[0;34m=\u001b[0m\u001b[0;32mTrue\u001b[0m\u001b[0;34m)\u001b[0m\u001b[0;34m:\u001b[0m\u001b[0;34m\u001b[0m\u001b[0m\n\u001b[1;32m      2\u001b[0m     \u001b[0mbox1\u001b[0m\u001b[0;34m,\u001b[0m \u001b[0mbox2\u001b[0m \u001b[0;34m=\u001b[0m \u001b[0mbb1\u001b[0m\u001b[0;34m[\u001b[0m\u001b[0;36m1\u001b[0m\u001b[0;34m:\u001b[0m\u001b[0;36m5\u001b[0m\u001b[0;34m]\u001b[0m\u001b[0;34m,\u001b[0m \u001b[0mbb2\u001b[0m\u001b[0;34m[\u001b[0m\u001b[0;36m1\u001b[0m\u001b[0;34m:\u001b[0m\u001b[0;36m5\u001b[0m\u001b[0;34m]\u001b[0m\u001b[0;34m\u001b[0m\u001b[0m\n\u001b[0;32m----> 3\u001b[0;31m     \u001b[0mcls1\u001b[0m\u001b[0;34m,\u001b[0m \u001b[0mcls2\u001b[0m \u001b[0;34m=\u001b[0m \u001b[0mbb1\u001b[0m\u001b[0;34m[\u001b[0m\u001b[0;36m6\u001b[0m\u001b[0;34m:\u001b[0m \u001b[0;34m]\u001b[0m\u001b[0;34m,\u001b[0m \u001b[0mbb2\u001b[0m\u001b[0;34m[\u001b[0m\u001b[0;36m6\u001b[0m\u001b[0;34m:\u001b[0m \u001b[0;34m]\u001b[0m  \u001b[0;31m# 5'th column is the precision of the bbox\u001b[0m\u001b[0;34m\u001b[0m\u001b[0m\n\u001b[0m\u001b[1;32m      4\u001b[0m     \u001b[0mclass1\u001b[0m\u001b[0;34m,\u001b[0m \u001b[0mclass2\u001b[0m \u001b[0;34m=\u001b[0m \u001b[0mtorch\u001b[0m\u001b[0;34m.\u001b[0m\u001b[0margmax\u001b[0m\u001b[0;34m(\u001b[0m\u001b[0mcls1\u001b[0m\u001b[0;34m)\u001b[0m\u001b[0;34m,\u001b[0m \u001b[0mtorch\u001b[0m\u001b[0;34m.\u001b[0m\u001b[0margmax\u001b[0m\u001b[0;34m(\u001b[0m\u001b[0mcls2\u001b[0m\u001b[0;34m)\u001b[0m\u001b[0;34m\u001b[0m\u001b[0m\n\u001b[1;32m      5\u001b[0m \u001b[0;34m\u001b[0m\u001b[0m\n",
      "\u001b[0;31mKeyboardInterrupt\u001b[0m: "
     ]
    }
   ],
   "source": [
    "# testing on a single vot example\n",
    "for vot_class in [\"birds2\"]:\n",
    "    do_dp(vot_class, total_res, crit_vals) "
   ]
  },
  {
   "cell_type": "code",
   "execution_count": null,
   "metadata": {
    "ExecuteTime": {
     "end_time": "2018-08-28T09:16:52.945945Z",
     "start_time": "2018-08-28T09:15:50.079Z"
    },
    "cell_style": "center"
   },
   "outputs": [],
   "source": [
    "def save(res, folder, ext=\"csv\", nm_fr=None):\n",
    "    if not os.path.exists(folder):\n",
    "        os.makedirs(folder)\n",
    "    for name in res:\n",
    "        if nm_fr is not None:\n",
    "            print(nm_fr[name], file=open(osp.join(folder, name + \".\" + ext), 'w+'))\n",
    "            print(\"\\n\".join([\",\".join([str(a) for a in x]) for x in res[name]]),\n",
    "                  file=open(osp.join(folder, name + \".\" + ext), 'a'))\n",
    "        else:\n",
    "            print(\"\\n\".join([\",\".join([str(a) for a in x]) for x in res[name]]),\n",
    "                  file=open(osp.join(folder, name + \".\" + ext), 'w+'))\n"
   ]
  },
  {
   "cell_type": "code",
   "execution_count": null,
   "metadata": {
    "ExecuteTime": {
     "end_time": "2018-08-28T09:16:52.947524Z",
     "start_time": "2018-08-28T09:15:50.635Z"
    }
   },
   "outputs": [],
   "source": [
    "def iou(cords1, cords2):\n",
    "    if len(cords2) < 4:\n",
    "        if (cords2[0] == 1):\n",
    "            return 1\n",
    "        return 1\n",
    "    if (len(cords1) == 8):\n",
    "        X1, Y1 = cords1[::2], cords1[1::2]\n",
    "        cords1 = [min(X1), min(Y1), max(X1),  max(Y1)]\n",
    "    if (len(cords2) == 8):\n",
    "        X2, Y2 = cords2[::2], cords2[1::2]\n",
    "        cords2 = [min(X2), min(Y2), max(X2),  max(Y2)]\n",
    "    xA = max(cords1[0], cords2[0])\n",
    "    yA = max(cords1[1], cords2[1])\n",
    "    xB = min(cords1[2], cords2[2])\n",
    "    yB = min(cords1[3], cords2[3])\n",
    "    interArea = max(0, xB - xA + 1e-32) * max(0, yB - yA + 1e-32)\n",
    "    cords1Area = (cords1[2] - cords1[0] + 1e-32) * \\\n",
    "        (cords1[3] - cords1[1] + 1e-32)\n",
    "    cords2Area = (cords2[2] - cords2[0] + 1e-32) * \\\n",
    "        (cords2[3] - cords2[1] + 1e-32)\n",
    "    return interArea / float(cords1Area + cords2Area - interArea)"
   ]
  },
  {
   "cell_type": "code",
   "execution_count": null,
   "metadata": {
    "ExecuteTime": {
     "end_time": "2018-08-28T09:16:52.948940Z",
     "start_time": "2018-08-28T09:15:51.670Z"
    }
   },
   "outputs": [],
   "source": [
    "def open_and_cast(file):\n",
    "    with open(file, 'r') as f:\n",
    "        pred = [s.split(',') for s in f.read().split(\"\\n\")]\n",
    "        for i in range(len(pred)):\n",
    "            if pred[i] == [\"\"]:\n",
    "                pred.pop(i)\n",
    "                continue\n",
    "            pred[i] = [float(x) for x in pred[i]]\n",
    "    return pred"
   ]
  },
  {
   "cell_type": "code",
   "execution_count": null,
   "metadata": {
    "ExecuteTime": {
     "end_time": "2018-08-28T09:16:52.950173Z",
     "start_time": "2018-08-28T09:15:51.852Z"
    }
   },
   "outputs": [],
   "source": [
    "def grade(gt_path, pred_path, method=\"mean_iou\"):\n",
    "    gt = open_and_cast(gt_path)\n",
    "    pred = open_and_cast(pred_path)\n",
    "    grades = [iou(gt[i], pred[i]) for i in range(len(gt))]\n",
    "    return sum(grades) / len(grades), grades"
   ]
  },
  {
   "cell_type": "code",
   "execution_count": null,
   "metadata": {
    "ExecuteTime": {
     "end_time": "2018-08-28T09:16:52.951272Z",
     "start_time": "2018-08-28T09:15:52.005Z"
    }
   },
   "outputs": [],
   "source": [
    "def grade_vot(vot_folder, res_folder, gt_filename=\"groundtruth.txt\", ext=\".csv\"):\n",
    "    vot_folders = sorted(os.listdir(vot_folder))\n",
    "    res = dict()\n",
    "    for i in range(len(vot_folders)):\n",
    "        if (vot_folders[i].endswith(\".txt\")):\n",
    "            continue\n",
    "        gt_file = osp.join(vot_folder, vot_folders[i], gt_filename)\n",
    "        pred_file = osp.join(res_folder, vot_folders[i] + ext)\n",
    "\n",
    "        single_grade = grade(gt_file, pred_file)[0]\n",
    "        res[vot_folders[i]] = single_grade\n",
    "    mean = 0\n",
    "    for i in res:\n",
    "        mean += res[i]\n",
    "    mean /= len(res.keys())\n",
    "    return mean, res"
   ]
  },
  {
   "cell_type": "code",
   "execution_count": null,
   "metadata": {
    "ExecuteTime": {
     "end_time": "2018-08-28T09:16:52.952522Z",
     "start_time": "2018-08-28T09:15:52.898Z"
    }
   },
   "outputs": [],
   "source": [
    "def grade_vot_first_bb(vot_folder, res_folder, gt_filename=\"groundtruth.txt\", ext=\".csv\"):\n",
    "    # evaluate prediction of the first box\n",
    "    vot_folders = sorted(os.listdir(vot_folder))\n",
    "    res = dict()\n",
    "    for i in range(len(vot_folders)):\n",
    "        if (vot_folders[i].endswith(\".txt\")):\n",
    "            continue\n",
    "        gt_file = osp.join(vot_folder, vot_folders[i], gt_filename)\n",
    "        pred_file = osp.join(res_folder, vot_folders[i] + ext)\n",
    "\n",
    "        gt_file = osp.join(vot_folder, vot_folders[i], gt_filename)\n",
    "        pred_file = osp.join(res_folder, vot_folders[i] + ext)\n",
    "        \n",
    "        gt = open_and_cast(gt_file)\n",
    "        pred = open_and_cast(pred_file)\n",
    "        grade = iou(gt[0], pred[0])\n",
    "        res[vot_folders[i]] = grade\n",
    "    mean = 0\n",
    "    for i in res:\n",
    "        mean += res[i]\n",
    "    mean /= len(res.keys())\n",
    "    return mean, res"
   ]
  },
  {
   "cell_type": "code",
   "execution_count": null,
   "metadata": {
    "ExecuteTime": {
     "end_time": "2018-08-28T09:16:52.953536Z",
     "start_time": "2018-08-28T09:15:54.929Z"
    }
   },
   "outputs": [],
   "source": [
    "# testing different parameters\n",
    "params = list()\n",
    "for i in range(0, 4):\n",
    "    for j in range(0, 4):\n",
    "        for k in range(0, 4):\n",
    "            if not (k == j == i):\n",
    "                params.append((i,j,k))\n",
    "                "
   ]
  },
  {
   "cell_type": "code",
   "execution_count": null,
   "metadata": {
    "ExecuteTime": {
     "end_time": "2018-08-28T09:16:52.954485Z",
     "start_time": "2018-08-28T09:15:55.327Z"
    }
   },
   "outputs": [],
   "source": [
    "crit_vals = {\n",
    "    \"iou\": 1,\n",
    "    \"cc\": 1,               # class_correspondence\n",
    "    \"id\": 1e-10,           # initial dist - keep for later experiments\n",
    "    \"vd\": 1                # vector dist\n",
    "}"
   ]
  },
  {
   "cell_type": "code",
   "execution_count": null,
   "metadata": {
    "ExecuteTime": {
     "end_time": "2018-08-28T09:16:52.955440Z",
     "start_time": "2018-08-28T09:16:25.813Z"
    }
   },
   "outputs": [],
   "source": [
    "# for param in params:  # testing on different parameters\n",
    "for param in [(1,1,1)]:  # testing on equal parameters\n",
    "    total_res = dict()\n",
    "    crit_vals[\"cc\"], crit_vals[\"iou\"], crit_vals[\"vd\"] = param\n",
    "    dirname = osp.join(\"param_tests\", '_'.join(['%s%s' % (key, value) for (key, value) in crit_vals.items()]))\n",
    "    \n",
    "    print(crit_vals)\n",
    "    start = time.time()\n",
    "    \n",
    "    for n, vot_class in enumerate(sorted([x for x in os.listdir(vot_path) if not x.endswith(\".txt\")])):\n",
    "        \n",
    "        print(vot_class, end=\" \")\n",
    "        do_dp(vot_class, total_res)\n",
    "        \n",
    "    save(total_res, dirname)\n",
    "    a = grade_vot(vot_path, dirname)  \n",
    "    print(a, file = open(dirname + \".txt\", \"w+\"))\n",
    "    print(\"accur.: \", a[0])\n",
    "    done = time.time()\n",
    "    elapsed = done - start\n",
    "    print(elapsed)\n",
    "    print()    \n",
    "    "
   ]
  },
  {
   "cell_type": "code",
   "execution_count": null,
   "metadata": {
    "ExecuteTime": {
     "end_time": "2018-08-28T09:16:52.956586Z",
     "start_time": "2018-08-28T09:16:27.900Z"
    }
   },
   "outputs": [],
   "source": [
    "grade_vot(vot_path, \"./descriptors\")[1]"
   ]
  },
  {
   "cell_type": "code",
   "execution_count": null,
   "metadata": {
    "ExecuteTime": {
     "end_time": "2018-08-28T09:16:52.957808Z",
     "start_time": "2018-08-28T09:16:28.526Z"
    }
   },
   "outputs": [],
   "source": [
    "import matplotlib.pyplot as plt\n",
    "from PIL import Image\n",
    "import os\n",
    "import os.path as osp\n",
    "import argparse\n",
    "import torch\n",
    "import matplotlib.pyplot as plt\n",
    "import matplotlib.patches as patches\n",
    "from PIL import Image\n",
    "from random import randrange\n",
    "import numpy as np\n",
    "from matplotlib.pyplot import figure"
   ]
  },
  {
   "cell_type": "code",
   "execution_count": null,
   "metadata": {
    "ExecuteTime": {
     "end_time": "2018-08-28T09:16:52.959318Z",
     "start_time": "2018-08-28T09:16:31.236Z"
    }
   },
   "outputs": [],
   "source": [
    "def plot_single_arr(im_path, pr_arr=None, pr_idx=0, gt_arr=None, gt_idx=0, force_square=False):\n",
    "    im = Image.open(im_path)\n",
    "    plt.imshow(im)\n",
    "\n",
    "    if pr_arr is not None:\n",
    "        l = pr_arr[pr_idx]\n",
    "        if l == \"\":\n",
    "            return\n",
    "        pr_bb = [float(x) for x in l.split(',')]\n",
    "        if len(pr_bb) < 4:\n",
    "            return\n",
    "        if force_square:\n",
    "            X, Y = pr_bb[::2], pr_bb[1::2]\n",
    "            pr_bb = [min(X), min(Y), max(X),  max(Y)]\n",
    "            plt.plot([pr_bb[0], pr_bb[2], pr_bb[2], pr_bb[0], pr_bb[0], ],\n",
    "                     [pr_bb[1], pr_bb[1], pr_bb[3], pr_bb[3], pr_bb[1], ], 'r-', lw=2)\n",
    "        elif (len(pr_bb) == 8):\n",
    "            plt.plot(pr_bb[::2] + [pr_bb[0]],\n",
    "                     pr_bb[1::2] + [pr_bb[1]], 'r-', lw=2)\n",
    "        else:\n",
    "            plt.plot([pr_bb[0], pr_bb[2], pr_bb[2], pr_bb[0], pr_bb[0], ],\n",
    "                     [pr_bb[1], pr_bb[1], pr_bb[3], pr_bb[3], pr_bb[1], ], 'r-', lw=2)\n",
    "\n",
    "    if gt_arr is not None:\n",
    "        l = gt_arr[gt_idx]\n",
    "        if l == \"\":\n",
    "            return\n",
    "        gt_bb = [float(x) for x in l.split(',')]\n",
    "\n",
    "        if (force_square):\n",
    "            X, Y = gt_bb[::2], gt_bb[1::2]\n",
    "            gt_bb = [min(X), min(Y), max(X),  max(Y)]\n",
    "            plt.plot([gt_bb[0], gt_bb[2], gt_bb[2], gt_bb[0], gt_bb[0], ],\n",
    "                     [gt_bb[1], gt_bb[1], gt_bb[3], gt_bb[3], gt_bb[1], ], 'b-', lw=2)\n",
    "        elif (len(gt_bb) == 8):\n",
    "            plt.plot(gt_bb[::2] + [gt_bb[0]],\n",
    "                     gt_bb[1::2] + [gt_bb[1]], 'b-', lw=2)\n",
    "        else:\n",
    "            plt.plot([gt_bb[0], gt_bb[2], gt_bb[2], gt_bb[0], gt_bb[0], ],\n",
    "                     [gt_bb[1], gt_bb[1], gt_bb[3], gt_bb[3], gt_bb[1], ], 'b-', lw=2)\n",
    "\n",
    "\n",
    "def plot_single(im_path, pr_path=None, pr_idx=0, gt_path=None, gt_idx=0, force_square=False):\n",
    "    \"\"\"\n",
    "    coords: [x1, y1, x2, y2, x3, y3, x4, y4]\n",
    "    \"\"\"\n",
    "\n",
    "    im = Image.open(im_path)\n",
    "    plt.imshow(im)\n",
    "\n",
    "    if pr_path is not None:\n",
    "        with open(pr_path, 'r') as f:\n",
    "            l = f.read().split(\"\\n\")[pr_idx]\n",
    "            if l == \"\":\n",
    "                return\n",
    "            pr_bb = [float(x) for x in l.split(',')]\n",
    "\n",
    "        if (force_square):\n",
    "            X, Y = pr_bb[::2], pr_bb[1::2]\n",
    "            pr_bb = [min(X), min(Y), max(X),  max(Y)]\n",
    "            plt.plot([pr_bb[0], pr_bb[2], pr_bb[2], pr_bb[0], pr_bb[0], ],\n",
    "                     [pr_bb[1], pr_bb[1], pr_bb[3], pr_bb[3], pr_bb[1], ], 'r-', lw=2)\n",
    "        elif (len(pr_bb) == 8):\n",
    "            plt.plot(pr_bb[::2] + [pr_bb[0]],\n",
    "                     pr_bb[1::2] + [pr_bb[1]], 'r-', lw=2)\n",
    "        else:\n",
    "            plt.plot([pr_bb[0], pr_bb[2], pr_bb[2], pr_bb[0], pr_bb[0], ],\n",
    "                     [pr_bb[1], pr_bb[1], pr_bb[3], pr_bb[3], pr_bb[1], ], 'r-', lw=2)\n",
    "\n",
    "    if gt_path is not None:\n",
    "        with open(gt_path, 'r') as f:\n",
    "            l = f.read().split(\"\\n\")[gt_idx]\n",
    "            gt_bb = [float(x) for x in l.split(',')]\n",
    "\n",
    "        if (force_square):\n",
    "            X, Y = gt_bb[::2], gt_bb[1::2]\n",
    "            gt_bb = [min(X), min(Y), max(X),  max(Y)]\n",
    "            plt.plot([gt_bb[0], gt_bb[2], gt_bb[2], gt_bb[0], gt_bb[0], ],\n",
    "                     [gt_bb[1], gt_bb[1], gt_bb[3], gt_bb[3], gt_bb[1], ], 'b-', lw=2)\n",
    "        elif (len(gt_bb) == 8):\n",
    "            plt.plot(gt_bb[::2] + [gt_bb[0]],\n",
    "                     gt_bb[1::2] + [gt_bb[1]], 'b-', lw=2)\n",
    "        else:\n",
    "            plt.plot([gt_bb[0], gt_bb[2], gt_bb[2], gt_bb[0], gt_bb[0], ],\n",
    "                     [gt_bb[1], gt_bb[1], gt_bb[3], gt_bb[3], gt_bb[1], ], 'b-', lw=2)\n",
    "\n",
    "\n",
    "def save_plot_single_arr(im_path, name=\"plot.jpg\", pr_arr=None, pr_idx=0, gt_arr=None, gt_idx=0, force_square=False):\n",
    "    plot_single_arr(im_path, pr_arr, pr_idx, gt_arr, gt_idx, force_square)\n",
    "    plt.show()\n",
    "    # plt.savefig(name)\n",
    "\n",
    "\n",
    "def save_plot_single(im_path, name=\"plot.jpg\", pr_path=None, pr_idx=0, gt_path=None, gt_idx=0, force_square=False):\n",
    "    plot_single(im_path, pr_path, pr_idx, gt_path, gt_idx, force_square)\n",
    "    plt.savefig(name)\n",
    "\n",
    "\n",
    "def save_plot_folder(dir_path, saveto=\"results\", pr_path=None, gt_path=None, force_square=False):\n",
    "    if (not os.path.exists(saveto)):\n",
    "        os.makedirs(saveto)\n",
    "    files = sorted([x for x in os.listdir(dir_path) if x.endswith(\".jpg\")])\n",
    "\n",
    "    if gt_path is not None:\n",
    "        with open(gt_path, 'r') as f:\n",
    "            gt_arr = f.read().split(\"\\n\")\n",
    "\n",
    "    if pr_path is not None:\n",
    "        with open(pr_path, 'r') as f:\n",
    "            pr_arr = f.read().split(\"\\n\")\n",
    "\n",
    "    for n, file in enumerate(files):\n",
    "        name = osp.join(saveto, file)\n",
    "#         print(\"saving {}\".format(name))\n",
    "        save_plot_single_arr(osp.join(dir_path, file), name=name, pr_arr=pr_arr,\n",
    "                             pr_idx=n, gt_arr=gt_arr, gt_idx=n, force_square=force_square)\n",
    "        plt.close()\n",
    "\n",
    "\n",
    "def csv2tensor(path_to_file, first_len=False):\n",
    "    with open(path_to_file, 'r') as f:\n",
    "        pr_arr = f.read().split(\"\\n\")\n",
    "        if first_len:\n",
    "            im_len = int(pr_arr.pop(0))\n",
    "        else:\n",
    "            im_len = -1\n",
    "        pr_arr.pop(-1)\n",
    "        pr_arr = [[float(y) for y in x.split(\",\")] for x in pr_arr]\n",
    "        return torch.tensor(pr_arr), im_len\n",
    "\n",
    "\n",
    "def plot_single_yolo(im_path, pr_arr, pr_idx, gt_arr, gt_idx, force_square, gs=False):\n",
    "    im = np.array(Image.open(im_path), dtype=np.uint8)\n",
    "    # Create figure and axes\n",
    "    fig, ax = plt.subplots(1)\n",
    "    # Display the image\n",
    "    ax.imshow(im)\n",
    "    # Create a Rectangle patch\n",
    "    for row in pr_arr[pr_arr[:, 0] == pr_idx]:\n",
    "        color = (randrange(1, 99) / 100, randrange(1, 99) /\n",
    "                 100, randrange(1, 99) / 100) if gs == False else (.7, .7, .7)\n",
    "        label = \" \" #classes[int(row[-1])]\n",
    "        x, y = float(row[1]), float(row[2])\n",
    "        h, w = float(row[4]) - y, float(row[3]) - x\n",
    "        rect = patches.Rectangle(\n",
    "            (x, y), w, h, linewidth=2, edgecolor=color, facecolor='none', label=label)\n",
    "        # Add the patch to the Axes\n",
    "        ax.add_patch(rect)\n",
    "        ax.annotate(label, (x, y), color=color, weight='bold',\n",
    "                    fontsize=10, ha='left', va='top')\n",
    "    # plt.show()\n",
    "\n",
    "\n",
    "def save_plot_single_yolo(im_path, name=\"plot.jpg\", pr_tensor=None, pr_idx=0, gt_tensor=None, gt_idx=0, force_square=False, gs=False):\n",
    "    plot_single_yolo(im_path, pr_tensor, pr_idx,\n",
    "                     gt_tensor, gt_idx, force_square, gs)\n",
    "    # plt.savefig(name)\n",
    "\n",
    "\n",
    "def save_plot_everything(imgs_folder=None, yolo_pred_file=None, pred_file=None, gt_file=None, saveto=\"results\", force_square=False):\n",
    "    plt.figure(figsize=(60, 80))\n",
    "    \n",
    "    if (not os.path.exists(saveto)):\n",
    "        os.makedirs(saveto)\n",
    "    files = sorted([x for x in os.listdir(imgs_folder) if x.endswith(\".jpg\")])\n",
    "\n",
    "    if gt_file is not None:\n",
    "        gt_tensor, gt_len = csv2tensor(gt_file)\n",
    "\n",
    "    if pred_file is not None:\n",
    "        pred_tensor, pred_len = csv2tensor(pred_file)\n",
    "\n",
    "    if pred_file is not None:\n",
    "        yolo_pred_tensor, yolo_pred_len = csv2tensor(yolo_pred_file, True)\n",
    "\n",
    "    for n, file in enumerate(files):\n",
    "        name = osp.join(saveto, file)\n",
    "#         print(\"saving {}\".format(name))\n",
    "        impath = osp.join(imgs_folder, file)\n",
    "\n",
    "        plot_single_yolo(impath, yolo_pred_tensor, n,\n",
    "                         gt_tensor, n, force_square, gs=True)\n",
    "        plot_single(impath, pred_file, n, gt_file, n, force_square=True)\n",
    "#         plt.savefig(name)\n",
    "        plt.show()\n",
    "        plt.close()\n",
    "        "
   ]
  },
  {
   "cell_type": "code",
   "execution_count": null,
   "metadata": {
    "ExecuteTime": {
     "end_time": "2018-08-28T09:16:52.960543Z",
     "start_time": "2018-08-28T09:16:32.429Z"
    }
   },
   "outputs": [],
   "source": [
    "%matplotlib inline"
   ]
  },
  {
   "cell_type": "code",
   "execution_count": null,
   "metadata": {
    "ExecuteTime": {
     "end_time": "2018-08-28T09:16:52.962223Z",
     "start_time": "2018-08-28T09:16:33.265Z"
    },
    "scrolled": false
   },
   "outputs": [],
   "source": [
    "# save_plot_single(\"/home/zabulskyy/Datasets/vot2016/leaves/00000100.jpg\",\n",
    "#                  pr_path=\"/home/zabulskyy/Projects/CTU-Research/results/yolo-blind/leaves.txt\",\n",
    "#                  gt_path=\"/home/zabulskyy/Datasets/vot2016/leaves/groundtruth.txt\",\n",
    "#                  force_square=True, gt_idx=101, pr_idx=101)\n",
    "cls = \"leaves\"\n",
    "met = \"descriptors/\"\n",
    "yolo_pred = \"../yolo_predictions/extended/\"\n",
    "\n",
    "# save_plot_folder(osp.join(\"/home/zabulskyy/Datasets/vot2016\", cls), saveto=osp.join(\"plots\", met, cls),\n",
    "#                  pr_path=osp.join(\"notebooks/\" + met, cls) + \".csv\",\n",
    "#                  gt_path=osp.join(\n",
    "#                      \"/home/zabulskyy/Datasets/vot2016\", cls, \"groundtruth.txt\"),\n",
    "#                  force_square=True)\n",
    "\n",
    "save_plot_everything(imgs_folder=osp.join(\"/home/zabulskyy/Datasets/vot2016\", cls), yolo_pred_file=osp.join(yolo_pred, cls+\".csv\"),\n",
    "                    pred_file=osp.join(\"./\" + met, cls) + \".csv\", saveto=\"lololo\",\n",
    "                    force_square=True, gt_file=osp.join(\n",
    "                     \"/home/zabulskyy/Datasets/vot2016\", cls, \"groundtruth.txt\"))\n",
    "\n",
    "\n",
    "# save_plot_folder(\"/home/zabulskyy/Datasets/vot2016/leaves\", saveto=\"./plots/yolo-first-smart-smart/leaves\",\n",
    "#                 pr_path=\"./results/yolo-first-smart-smart/leaves.txt\",\n",
    "#                 gt_path=\"/home/zabulskyy/Datasets/vot2016/leaves/groundtruth.txt\",\n",
    "#                 force_square=True)"
   ]
  }
 ],
 "metadata": {
  "celltoolbar": "Slideshow",
  "kernelspec": {
   "display_name": "Python 3",
   "language": "python",
   "name": "python3"
  },
  "language_info": {
   "codemirror_mode": {
    "name": "ipython",
    "version": 3
   },
   "file_extension": ".py",
   "mimetype": "text/x-python",
   "name": "python",
   "nbconvert_exporter": "python",
   "pygments_lexer": "ipython3",
   "version": "3.6.6"
  },
  "notify_time": "5",
  "widgets": {
   "application/vnd.jupyter.widget-state+json": {
    "state": {},
    "version_major": 2,
    "version_minor": 0
   }
  }
 },
 "nbformat": 4,
 "nbformat_minor": 2
}
