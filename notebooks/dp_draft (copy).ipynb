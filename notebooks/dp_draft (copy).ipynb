{
 "cells": [
  {
   "cell_type": "code",
   "execution_count": 1,
   "metadata": {
    "ExecuteTime": {
     "end_time": "2018-08-17T13:27:35.756016Z",
     "start_time": "2018-08-17T13:27:35.303041Z"
    },
    "cell_style": "center"
   },
   "outputs": [],
   "source": [
    "import torch\n",
    "import torchvision\n",
    "import numpy as np\n",
    "import os.path as osp\n",
    "import os\n",
    "import time\n"
   ]
  },
  {
   "cell_type": "code",
   "execution_count": 2,
   "metadata": {
    "ExecuteTime": {
     "end_time": "2018-08-17T13:27:38.570291Z",
     "start_time": "2018-08-17T13:27:38.555664Z"
    },
    "cell_style": "center"
   },
   "outputs": [
    {
     "name": "stdout",
     "output_type": "stream",
     "text": [
      "['person', 'bicycle', 'car', 'motorbike', 'aeroplane', 'bus', 'train', 'truck', 'boat', 'traffic light', 'fire hydrant', 'stop sign', 'parking meter', 'bench', 'bird', 'cat', 'dog', 'horse', 'sheep', 'cow', 'elephant', 'bear', 'zebra', 'giraffe', 'backpack', 'umbrella', 'handbag', 'tie', 'suitcase', 'frisbee', 'skis', 'snowboard', 'sports ball', 'kite', 'baseball bat', 'baseball glove', 'skateboard', 'surfboard', 'tennis racket', 'bottle', 'wine glass', 'cup', 'fork', 'knife', 'spoon', 'bowl', 'banana', 'apple', 'sandwich', 'orange', 'broccoli', 'carrot', 'hot dog', 'pizza', 'donut', 'cake', 'chair', 'sofa', 'pottedplant', 'bed', 'diningtable', 'toilet', 'tvmonitor', 'laptop', 'mouse', 'remote', 'keyboard', 'cell phone', 'microwave', 'oven', 'toaster', 'sink', 'refrigerator', 'book', 'clock', 'vase', 'scissors', 'teddy bear', 'hair drier', 'toothbrush']\n",
      "['blanket', 'bolt2', 'traffic', 'ball1', 'leaves', 'pedestrian1', 'singer3', 'helicopter', 'godfather', 'soccer1', 'book', 'tunnel', 'gymnastics1', 'basketball', 'birds1', 'car1', 'ball2', 'birds2', 'motocross1', 'bmx', 'gymnastics2', 'fish3', 'motocross2', 'soccer2', 'octopus', 'fernando', 'shaking', 'crossing', 'singer2', 'soldier', 'pedestrian2', 'nature', 'butterfly', 'road', 'iceskater2', 'sphere', 'fish2', 'graduate', 'marching', 'rabbit', 'car2', 'matrix', 'girl', 'tiger', 'gymnastics4', 'wiper', 'racing', 'dinosaur', 'bolt1', 'hand', 'handball1', 'bag', 'sheep', 'iceskater1', 'fish1', 'singer1', 'gymnastics3', 'fish4', 'glove', 'handball2']\n"
     ]
    }
   ],
   "source": [
    "# GLOBALS\n",
    "# vot_path = \"../../../vot2016/\"\n",
    "vot_path = \"/home/zabulskyy/Datasets/vot2016/\"\n",
    "# yolo_pred_path = \"../yolo_predictions/extended\"\n",
    "yolo_pred_path = \"/mnt/sshfs/YOLO-tracker/yolo_predictions/extended\"\n",
    "crit_vals = {\n",
    "    \"iou\": 1,\n",
    "    \"cc\": 1,               # class_correspondence\n",
    "    \"id\": 1,               # initial dist \n",
    "    \"vd\": 1                # vector dist\n",
    "#     \"dist2\": 1,\n",
    "}\n",
    "with open(\"../../yoloTorch/data/coco.names\", \"r\") as f:\n",
    "    classes = f.read().split(\"\\n\")[:-1]\n",
    "print(classes)\n",
    "dist = torch.nn.modules.PairwiseDistance()\n",
    "vot_classes = [x for x in os.listdir(vot_path) if not x.endswith(\".txt\")]\n",
    "print(vot_classes)"
   ]
  },
  {
   "cell_type": "code",
   "execution_count": 3,
   "metadata": {
    "ExecuteTime": {
     "end_time": "2018-08-17T13:27:40.051764Z",
     "start_time": "2018-08-17T13:27:40.046800Z"
    }
   },
   "outputs": [],
   "source": [
    "def read_csv(file=\"correlations.csv\"):\n",
    "    with open(file, 'r') as file:\n",
    "        l = file.read().split(\"\\n\")\n",
    "        l.pop(-1)\n",
    "        l = [[float(x) for x in y.split(\",\")[:-1]] for y in l]   \n",
    "        return torch.tensor(l)\n",
    "    "
   ]
  },
  {
   "cell_type": "code",
   "execution_count": 4,
   "metadata": {
    "ExecuteTime": {
     "end_time": "2018-08-17T13:27:40.825887Z",
     "start_time": "2018-08-17T13:27:40.810944Z"
    }
   },
   "outputs": [],
   "source": [
    "cm = read_csv()"
   ]
  },
  {
   "cell_type": "code",
   "execution_count": 5,
   "metadata": {
    "ExecuteTime": {
     "end_time": "2018-08-17T13:27:41.292732Z",
     "start_time": "2018-08-17T13:27:41.287541Z"
    }
   },
   "outputs": [],
   "source": [
    "def dist2(row1, row2):\n",
    "    pass\n",
    "\n",
    "def the_closest(row_to_compare, rows):\n",
    "    pass\n",
    "\n",
    "def iou(boxA, boxB):\n",
    "    pass\n",
    "\n",
    "def the_most_iou(row_to_compare, rows):\n",
    "    pass\n",
    "\n",
    "def interpolate(data):\n",
    "    pass\n",
    "\n",
    "def read_gt(vot_class, vot_path=vot_path, force_square=True):\n",
    "    pass\n",
    "\n",
    "def read_yolo_pred(vot_class, yolo_pred_path=yolo_pred_path, force_square=True):\n",
    "    pass\n",
    "\n",
    "def eval_energy(bb1, bb2, cv=crit_vals):\n",
    "    pass\n",
    "\n",
    "def class_correlations(class_probs1, class_probs2):\n",
    "    pass\n",
    "\n",
    "def eval_class_corr(cls1, cls2, correlations=cm):\n",
    "    pass"
   ]
  },
  {
   "cell_type": "code",
   "execution_count": 6,
   "metadata": {
    "ExecuteTime": {
     "end_time": "2018-08-17T13:27:42.044802Z",
     "start_time": "2018-08-17T13:27:42.034750Z"
    }
   },
   "outputs": [],
   "source": [
    "def dist2(row1, row2):\n",
    "    x11, y11, x12, y12 = row1[1:5] if len(row1) != 4 else row1[:]\n",
    "    x21, y21, x22, y22 = row2[1:5] if len(row2) != 4 else row2[:]\n",
    "    x1, y1 = (x11 + x12) / 2, (y11 + y12) / 2\n",
    "    x2, y2 = (x21 + x22) / 2, (y21 + y22) / 2\n",
    "    X = (x1 - x2) ** 2\n",
    "    Y = (y1 - y2) ** 2\n",
    "    res = float((X + Y) ** 0.5)\n",
    "    return res\n",
    "\n",
    "def the_closest(row_to_compare, rows):\n",
    "    m, i = np.infty, 0\n",
    "    for n, row in enumerate(rows):\n",
    "        d = dist2(row, row_to_compare)\n",
    "        if d < m:\n",
    "            m = float(d)\n",
    "            i = n\n",
    "    return rows[i], i"
   ]
  },
  {
   "cell_type": "code",
   "execution_count": 7,
   "metadata": {
    "ExecuteTime": {
     "end_time": "2018-08-17T13:27:42.569201Z",
     "start_time": "2018-08-17T13:27:42.562446Z"
    }
   },
   "outputs": [],
   "source": [
    "def iou(boxA, boxB):\n",
    "    boxA = boxA[1:5] if len(boxA) != 4 else boxA\n",
    "    boxB = boxB[1:5] if len(boxB) != 4 else boxB\n",
    "\n",
    "    xA = max(boxA[0], boxB[0])\n",
    "    yA = max(boxA[1], boxB[1])\n",
    "    xB = min(boxA[2], boxB[2])\n",
    "    yB = min(boxA[3], boxB[3])\n",
    "    interArea = max(0, xB - xA + 1) * max(0, yB - yA + 1)\n",
    "    boxAArea = (boxA[2] - boxA[0] + 1) * (boxA[3] - boxA[1] + 1)\n",
    "    boxBArea = (boxB[2] - boxB[0] + 1) * (boxB[3] - boxB[1] + 1)\n",
    "    res = interArea / float(boxAArea + boxBArea - interArea)\n",
    "    return res\n",
    "\n",
    "def the_most_iou(row_to_compare, rows):\n",
    "    M, i = 0, 0\n",
    "    for n, row in enumerate(rows):\n",
    "        v = iou(row, row_to_compare)\n",
    "        if v > M:\n",
    "            M = float(v)\n",
    "            i = n\n",
    "    return rows[i], i"
   ]
  },
  {
   "cell_type": "code",
   "execution_count": 8,
   "metadata": {
    "ExecuteTime": {
     "end_time": "2018-08-17T13:27:43.179450Z",
     "start_time": "2018-08-17T13:27:43.167464Z"
    }
   },
   "outputs": [],
   "source": [
    "def generate_subframes(row1, row2, width):\n",
    "    frame1, frame2 = int(row1[0]), int(row2[0])\n",
    "    diff = frame1 - frame2\n",
    "    if diff == 1:\n",
    "        return None\n",
    "    result = torch.zeros((frame2 - frame1 - 1, width))\n",
    "    # result[:, -1] = row1[-1]\n",
    "    step = (row1 - row2) / diff\n",
    "    for frame_n in range(frame2 - frame1 - 1):\n",
    "        result[frame_n] = row1 + (step) * (frame_n + 1)\n",
    "    return result"
   ]
  },
  {
   "cell_type": "code",
   "execution_count": 9,
   "metadata": {
    "ExecuteTime": {
     "end_time": "2018-08-17T13:27:43.729852Z",
     "start_time": "2018-08-17T13:27:43.722936Z"
    }
   },
   "outputs": [],
   "source": [
    "def merge_frames(*rows):\n",
    "    result = torch.zeros((1, 8))\n",
    "    n = len(rows)\n",
    "    for row in rows:\n",
    "        result += row\n",
    "    return result / n"
   ]
  },
  {
   "cell_type": "code",
   "execution_count": null,
   "metadata": {
    "ExecuteTime": {
     "end_time": "2018-08-17T07:59:05.955118Z",
     "start_time": "2018-08-17T07:59:05.938443Z"
    }
   },
   "outputs": [],
   "source": []
  },
  {
   "cell_type": "code",
   "execution_count": 10,
   "metadata": {
    "ExecuteTime": {
     "end_time": "2018-08-17T13:27:45.107381Z",
     "start_time": "2018-08-17T13:27:45.102324Z"
    }
   },
   "outputs": [],
   "source": [
    "def fill_first(tensor):\n",
    "    FIRST = tensor[0]\n",
    "    for i in range(int(FIRST[0]) - 1, -1, -1):\n",
    "        row = FIRST\n",
    "        row[0] = i\n",
    "        row = row.view((1, -1))\n",
    "        tensor = torch.cat((row, tensor))\n",
    "    return tensor"
   ]
  },
  {
   "cell_type": "code",
   "execution_count": 11,
   "metadata": {
    "ExecuteTime": {
     "end_time": "2018-08-17T13:27:45.568051Z",
     "start_time": "2018-08-17T13:27:45.563257Z"
    }
   },
   "outputs": [],
   "source": [
    "def fill_last(tensor, NUM_FRAMES):\n",
    "    last = tensor[tensor[:, 0] != 0][-1]\n",
    "    for i in range(int(last[0]) + 1, NUM_FRAMES):\n",
    "        row = last\n",
    "        row[0] = i\n",
    "        row = row.view((1, -1))\n",
    "        tensor[i] = row\n",
    "    return tensor"
   ]
  },
  {
   "cell_type": "code",
   "execution_count": 12,
   "metadata": {
    "ExecuteTime": {
     "end_time": "2018-08-17T13:27:46.094578Z",
     "start_time": "2018-08-17T13:27:46.091468Z"
    }
   },
   "outputs": [],
   "source": [
    "def most_frequent_class(results):\n",
    "    counts = np.bincount(results[:, -1])\n",
    "    return np.argmax(counts)"
   ]
  },
  {
   "cell_type": "code",
   "execution_count": 13,
   "metadata": {
    "ExecuteTime": {
     "end_time": "2018-08-17T13:27:47.322007Z",
     "start_time": "2018-08-17T13:27:47.303438Z"
    }
   },
   "outputs": [],
   "source": [
    "def interpolate(data):\n",
    "    \"\"\"\n",
    "    interpolate gaps\n",
    "    choose one detection among multiple, by picking the closest one by the euclidean distance\n",
    "    ignore class labels\n",
    "    :param OUTPUT: tensor\n",
    "    :param NUM_FRAMES:\n",
    "    :param CUDA: bool - if cuda is available\n",
    "    :return: interpolated tensor\n",
    "    \"\"\"\n",
    "    OUTPUT = data[\"output\"]\n",
    "    NUM_FRAMES = data[\"num_frames\"]\n",
    "    CUDA = data[\"CUDA\"]\n",
    "\n",
    "    width = OUTPUT.size()[1]\n",
    "    result = torch.zeros((NUM_FRAMES, width))\n",
    "    if CUDA:\n",
    "        result = result.cuda()\n",
    "\n",
    "    if OUTPUT[0][0] != 0:\n",
    "        OUTPUT = fill_first(OUTPUT)\n",
    "\n",
    "    output_iter = 0\n",
    "    res_iter = 0\n",
    "    while res_iter != NUM_FRAMES:\n",
    "        if (output_iter > len(OUTPUT) - 1):\n",
    "            # break\n",
    "            result = fill_last(result, NUM_FRAMES)\n",
    "            break\n",
    "        if output_iter == OUTPUT.shape[0] - 1:\n",
    "            result[res_iter] = OUTPUT[output_iter]\n",
    "            output_iter += 1\n",
    "            res_iter += 1\n",
    "            continue\n",
    "\n",
    "        # next frame is interpolated\n",
    "        if OUTPUT[output_iter][0] == OUTPUT[output_iter + 1][0] - 1:\n",
    "            result[res_iter] = OUTPUT[output_iter]\n",
    "            output_iter += 1\n",
    "            res_iter += 1\n",
    "            continue\n",
    "\n",
    "        # missing detection on some frames, fill with missing\n",
    "        if OUTPUT[output_iter][0] + 1 < OUTPUT[output_iter + 1][0]:\n",
    "            subframes = generate_subframes(\n",
    "                OUTPUT[output_iter], OUTPUT[output_iter + 1], width)\n",
    "            result[res_iter] = OUTPUT[output_iter]\n",
    "            for subframe in subframes:\n",
    "                res_iter += 1\n",
    "                result[res_iter] = subframe\n",
    "            output_iter += 1\n",
    "            res_iter += 1\n",
    "            continue\n",
    "\n",
    "        # this frame contains multiple detections, have to choose one\n",
    "        if OUTPUT[output_iter][0] == OUTPUT[output_iter + 1][0]:\n",
    "            frame = OUTPUT[output_iter][0]\n",
    "            to_cut = OUTPUT[OUTPUT[:, 0] == frame]\n",
    "            # closest, _ = the_closest(result[res_iter - 1], to_cut)\n",
    "            closest, _ = the_most_iou(result[res_iter - 1], to_cut)\n",
    "#             closest, _ = the_closest_vec(result[res_iter - 1], to_cut)\n",
    "            result[res_iter] = closest\n",
    "\n",
    "            output_iter += len(to_cut)\n",
    "            res_iter += 1\n",
    "\n",
    "            if output_iter >= OUTPUT.shape[0] - 1:\n",
    "                break\n",
    "\n",
    "            # missing detection on some frames, fill with missing\n",
    "            if OUTPUT[output_iter - 1][0] + 1 < OUTPUT[output_iter][0]:\n",
    "                subframes = generate_subframes(\n",
    "                    result[res_iter - 1], OUTPUT[output_iter], width)\n",
    "                # result[res_iter] = OUTPUT[output_iter]\n",
    "                for subframe in subframes:\n",
    "                    result[res_iter] = subframe\n",
    "                    res_iter += 1\n",
    "            continue\n",
    "    return result"
   ]
  },
  {
   "cell_type": "code",
   "execution_count": 14,
   "metadata": {
    "ExecuteTime": {
     "end_time": "2018-08-17T13:27:47.945390Z",
     "start_time": "2018-08-17T13:27:47.936066Z"
    }
   },
   "outputs": [],
   "source": [
    "def read_gt(vot_class, vot_path=vot_path, force_square=True):\n",
    "    gt_file = osp.join(vot_path, vot_class, \"groundtruth.txt\")\n",
    "    with open(gt_file, 'r') as file:\n",
    "        l =file.read().split(\"\\n\")\n",
    "        l.pop(-1)\n",
    "        l = [[float(x) for x in y.split(\",\")] for y in l]\n",
    "        if force_square:\n",
    "            l = [[min(m[::2]), min(m[1::2]), max(m[::2]), max(m[1::2])] for m in l]   \n",
    "        return torch.tensor(l)\n",
    "    \n",
    "def read_full_gt(vot_path=vot_path, force_square=True):\n",
    "    vot_classes = [x for x in os.listdir(vot_path) if not x.endswith(\".txt\")]\n",
    "    X = list()\n",
    "    for vot_class in vot_classes:\n",
    "        gt_file = osp.join(vot_path, vot_class, \"groundtruth.txt\")\n",
    "        with open(gt_file, 'r') as file:\n",
    "            l =file.read().split(\"\\n\")\n",
    "            l.pop(-1)\n",
    "            l = [[float(x) for x in y.split(\",\")] for y in l]\n",
    "            if force_square:\n",
    "                l = [[min(m[::2]), min(m[1::2]), max(m[::2]), max(m[1::2])] for m in l]   \n",
    "        X.append(l)\n",
    "    return torch.tensor(X)"
   ]
  },
  {
   "cell_type": "code",
   "execution_count": 15,
   "metadata": {
    "ExecuteTime": {
     "end_time": "2018-08-17T13:27:48.509453Z",
     "start_time": "2018-08-17T13:27:48.498563Z"
    }
   },
   "outputs": [],
   "source": [
    "def read_yolo_pred(vot_class, yolo_pred_path=yolo_pred_path, pred_format=\"csv\", first_len=True):\n",
    "    yolo_pred_file = osp.join(yolo_pred_path, vot_class + \".\" + pred_format)\n",
    "    with open(yolo_pred_file, 'r') as file:\n",
    "        l =file.read().split(\"\\n\")\n",
    "        l.pop(-1)\n",
    "        im_len = -1\n",
    "        if first_len:\n",
    "            im_len = float(l.pop(0))\n",
    "        l = [[float(x) for x in y.split(\",\")] for y in l]            \n",
    "        return torch.tensor(l), im_len\n",
    "    "
   ]
  },
  {
   "cell_type": "code",
   "execution_count": 16,
   "metadata": {
    "ExecuteTime": {
     "end_time": "2018-08-17T13:28:07.103922Z",
     "start_time": "2018-08-17T13:27:51.173976Z"
    }
   },
   "outputs": [],
   "source": [
    "yolo_pred = dict()\n",
    "\n",
    "for i in vot_classes:\n",
    "    yolo_pred[i] = read_yolo_pred(i)\n",
    "    "
   ]
  },
  {
   "cell_type": "code",
   "execution_count": 17,
   "metadata": {
    "ExecuteTime": {
     "end_time": "2018-08-17T13:28:07.118179Z",
     "start_time": "2018-08-17T13:28:07.105888Z"
    }
   },
   "outputs": [
    {
     "data": {
      "text/plain": [
       "dict_keys(['blanket', 'bolt2', 'traffic', 'ball1', 'leaves', 'pedestrian1', 'singer3', 'helicopter', 'godfather', 'soccer1', 'book', 'tunnel', 'gymnastics1', 'basketball', 'birds1', 'car1', 'ball2', 'birds2', 'motocross1', 'bmx', 'gymnastics2', 'fish3', 'motocross2', 'soccer2', 'octopus', 'fernando', 'shaking', 'crossing', 'singer2', 'soldier', 'pedestrian2', 'nature', 'butterfly', 'road', 'iceskater2', 'sphere', 'fish2', 'graduate', 'marching', 'rabbit', 'car2', 'matrix', 'girl', 'tiger', 'gymnastics4', 'wiper', 'racing', 'dinosaur', 'bolt1', 'hand', 'handball1', 'bag', 'sheep', 'iceskater1', 'fish1', 'singer1', 'gymnastics3', 'fish4', 'glove', 'handball2'])"
      ]
     },
     "execution_count": 17,
     "metadata": {},
     "output_type": "execute_result"
    }
   ],
   "source": [
    "yolo_pred.keys()"
   ]
  },
  {
   "cell_type": "code",
   "execution_count": 18,
   "metadata": {
    "ExecuteTime": {
     "end_time": "2018-08-17T13:28:07.128779Z",
     "start_time": "2018-08-17T13:28:07.120248Z"
    }
   },
   "outputs": [],
   "source": [
    "# compute class correlation\n",
    "def ccc(classes_probs):\n",
    "    # classes_probs.shape = (bboxes, classes)\n",
    "    corr_mat = torch.zeros((classes_probs.shape[1], classes_probs.shape[1], ))\n",
    "\n",
    "    for cls in range(len(classes_probs[0])):\n",
    "        col = classes_probs[:, cls].view((-1, 1))\n",
    "        tX = col * classes_probs\n",
    "        sX = torch.sum(tX, dim=0)\n",
    "        corr_mat[cls] = sX\n",
    "    return corr_mat\n",
    "\n",
    "def corr(col1, col2):\n",
    "    mean1, mean2 = torch.mean(col1), torch.mean(col2)\n",
    "    cm1, cm2 = col1 - mean1, col2 - mean2\n",
    "    top = sum(cm1 * cm2)\n",
    "    bot = torch.sqrt(sum(cm1 ** 2) * sum(cm2 ** 2))\n",
    "    return top / bot\n",
    "\n",
    "# compute class correlation coefficient\n",
    "def cccc(classes_probs):\n",
    "    # classes_probs.shape = (bboxes, classes)\n",
    "    corr_mat = torch.zeros((classes_probs.shape[1], classes_probs.shape[1], ))\n",
    "    num_classes = len(classes_probs[0])\n",
    "    for cls1 in range(num_classes):\n",
    "        col1 = classes_probs[:, cls1].view((-1, 1))\n",
    "        for cls2 in range(cls1 + 1, num_classes):\n",
    "            print(\"{}.{} / {}\".format(cls1+1, cls2+1, num_classes))\n",
    "            col2 = classes_probs[:, cls2].view((-1, 1))\n",
    "            _corr = corr(col1, col2)\n",
    "#             _corr = np.corrcoef(col1, col2)\n",
    "            corr_mat[cls1, cls2] = _corr\n",
    "    return corr_mat\n"
   ]
  },
  {
   "cell_type": "code",
   "execution_count": 19,
   "metadata": {
    "ExecuteTime": {
     "end_time": "2018-08-17T13:28:07.137385Z",
     "start_time": "2018-08-17T13:28:07.130863Z"
    }
   },
   "outputs": [],
   "source": [
    "def read_all_yolo_preds(path=yolo_pred_path, pred_format=\"csv\"):\n",
    "    X = []\n",
    "    for vot_class in os.listdir(path):\n",
    "        yolo_pred_file = osp.join(path, vot_class)\n",
    "        with open(yolo_pred_file, 'r') as file:\n",
    "            l = file.read().split(\"\\n\")\n",
    "            l.pop(-1)\n",
    "            l.pop(0)\n",
    "            im_len = -1\n",
    "            for i in l:\n",
    "                X.append([float(x) for x in i.split(\",\")])\n",
    "    X = torch.tensor(X)\n",
    "#     cls_probs = X[:, 6:]\n",
    "    return X"
   ]
  },
  {
   "cell_type": "code",
   "execution_count": 20,
   "metadata": {
    "ExecuteTime": {
     "end_time": "2018-08-17T13:28:07.145189Z",
     "start_time": "2018-08-17T13:28:07.141015Z"
    }
   },
   "outputs": [],
   "source": [
    "def eval_single_class_corr(cls1 : int, cls2 : int, correlations=cm):\n",
    "    return float(cm[cls1][cls2])\n",
    "\n",
    "def eval_whole_class_corr(cls1, cls2, correlations=cm):\n",
    "    # TODO: consider if this worth it\n",
    "    # too complicated yet\n",
    "    pass"
   ]
  },
  {
   "cell_type": "code",
   "execution_count": 21,
   "metadata": {
    "ExecuteTime": {
     "end_time": "2018-08-17T13:28:07.153865Z",
     "start_time": "2018-08-17T13:28:07.148755Z"
    }
   },
   "outputs": [],
   "source": [
    "def normalise(tensor):\n",
    "    mean = torch.mean(tensor)\n",
    "    std = torch.std(tensor)\n",
    "    return (tensor - mean) / std"
   ]
  },
  {
   "cell_type": "code",
   "execution_count": 22,
   "metadata": {
    "ExecuteTime": {
     "end_time": "2018-08-17T13:28:07.160419Z",
     "start_time": "2018-08-17T13:28:07.157234Z"
    }
   },
   "outputs": [],
   "source": [
    "def write_csv(matrix, file=\"correlations.csv\"):\n",
    "    for i in matrix.tolist():\n",
    "        for j in i:\n",
    "            print(j, sep=\", \", end=\", \", file=open(file, \"a+\"))\n",
    "        print(file=open(file, \"a+\"))"
   ]
  },
  {
   "cell_type": "code",
   "execution_count": null,
   "metadata": {
    "ExecuteTime": {
     "end_time": "2018-08-17T07:59:24.922941Z",
     "start_time": "2018-08-17T07:59:24.920539Z"
    }
   },
   "outputs": [],
   "source": []
  },
  {
   "cell_type": "code",
   "execution_count": 23,
   "metadata": {
    "ExecuteTime": {
     "end_time": "2018-08-17T13:28:07.168617Z",
     "start_time": "2018-08-17T13:28:07.162712Z"
    }
   },
   "outputs": [],
   "source": [
    "def eval_energy(bb1, bb2, cv=crit_vals, ban_negative_cc=True):\n",
    "    box1, box2 = bb1[1:5], bb2[1:5]\n",
    "    cls1, cls2 = bb1[6: ], bb2[6: ]  # 5'th column is the precision of the bbox\n",
    "    class1, class2 = torch.argmax(cls1), torch.argmax(cls2)\n",
    "    \n",
    "#     _dist2 = dist2(box1, box2)  # probably not\n",
    "    \n",
    "    _iou = iou(box1, box2)\n",
    "    \n",
    "    _cc = eval_single_class_corr(class1, class2)\n",
    "    \n",
    "    _vd = vec_dist(bb1, bb2)\n",
    "    \n",
    "    \n",
    "    return {\"iou\": _iou, \"cc\": _cc, \"vd\": 1 / _vd}"
   ]
  },
  {
   "cell_type": "code",
   "execution_count": 24,
   "metadata": {
    "ExecuteTime": {
     "end_time": "2018-08-17T13:28:07.179504Z",
     "start_time": "2018-08-17T13:28:07.171286Z"
    }
   },
   "outputs": [],
   "source": [
    "def cebtf(frame1, frame2, cv=crit_vals, ban_negative_cc=True):  # calc_energies_between_two_frames\n",
    "    _boxes = torch.zeros((len(frame1)))\n",
    "    _energies = torch.zeros((len(frame1)))\n",
    "    for i in range(len(frame1)):\n",
    "        max_energy = 0\n",
    "        max_energy_index = 0\n",
    "        \n",
    "        \n",
    "        ious = torch.zeros(len(frame2))\n",
    "        \n",
    "        ccs = torch.zeros(len(frame2))\n",
    "        \n",
    "        vds = torch.zeros(len(frame2))\n",
    "        \n",
    "        for j in range(len(frame2)):\n",
    "            energy = eval_energy(frame1[i], frame2[j], cv=crit_vals, ban_negative_cc=ban_negative_cc)\n",
    "            \n",
    "            if ban_negative_cc and energy[\"cc\"] < 0:        \n",
    "                pass  # values are already 0\n",
    "            else:          \n",
    "                ious[j] = energy[\"iou\"] * crit_vals[\"iou\"]\n",
    "                ccs[j] = energy[\"cc\"] * crit_vals[\"cc\"]\n",
    "                vds[j] = energy[\"vd\"] * crit_vals[\"vd\"]\n",
    "                \n",
    "        # normalize\n",
    "        ious = ious / (torch.max(ious) + 1e-10)\n",
    "        ccs = ccs / (torch.max(ccs) + 1e-10)\n",
    "        vds = vds / (torch.max(vds) + 1e-10)\n",
    "        \n",
    "        energies = sum((ious, ccs, vds))\n",
    "\n",
    "        _boxes[i] = torch.argmax(energies)\n",
    "        _energies[i] = torch.max(energies)\n",
    "    return _boxes, _energies\n",
    "          "
   ]
  },
  {
   "cell_type": "code",
   "execution_count": 25,
   "metadata": {
    "ExecuteTime": {
     "end_time": "2018-08-17T13:28:07.189394Z",
     "start_time": "2018-08-17T13:28:07.182198Z"
    }
   },
   "outputs": [],
   "source": [
    "def the_most_iou(row_to_compare, rows):\n",
    "    M, i = 0, 0\n",
    "    for n, row in enumerate(rows):\n",
    "        v = iou(row, row_to_compare)\n",
    "        if v > M:\n",
    "            M = float(v)\n",
    "            i = n\n",
    "    return rows[i], i\n",
    "\n",
    "def pp_first(data):\n",
    "    # detects the closest object to FIRST gt box and removes the rest on the FIRST frame\n",
    "    CUDA = data[\"CUDA\"]\n",
    "    output = data[\"output\"]\n",
    "    first = data[\"first\"]\n",
    "\n",
    "    tcc, _ = the_most_iou(first, output[:, 1:5])\n",
    "#     print(\"PP_FIRST\")\n",
    "#     print(first, output, tcc, sep=\"\\n\")\n",
    "#     print(\"PP_FIRST\")\n",
    "    \n",
    "    # only detections close to the true FIRST frame\n",
    "    \n",
    "    output = replace_first_frame(tcc, output)\n",
    "    return output\n",
    "\n",
    "def replace_first_frame(to_replace, OUTPUT):\n",
    "    to_replace = to_replace[:4]\n",
    "#     print(to_replace)\n",
    "    OUTPUT = OUTPUT[OUTPUT[:, 0] != 0]\n",
    "#     print(OUTPUT.shape)\n",
    "    to_replace = to_replace.view((1, -1))\n",
    "    _to_replace = torch.zeros((1, 8))\n",
    "    _to_replace[0][1:5] = to_replace[0]\n",
    "    return torch.cat((_to_replace, OUTPUT))"
   ]
  },
  {
   "cell_type": "code",
   "execution_count": 26,
   "metadata": {
    "ExecuteTime": {
     "end_time": "2018-08-17T13:28:07.196334Z",
     "start_time": "2018-08-17T13:28:07.191950Z"
    }
   },
   "outputs": [],
   "source": [
    "def get_first(vot_class):\n",
    "    with open(osp.join(vot_path, vot_class, \"groundtruth.txt\"), 'r') as file:\n",
    "        l = [float(x) for x in file.read().split(\"\\n\")[0].split(\",\")]\n",
    "        X, Y = l[::2], l[1::2]\n",
    "        l = [min(X), min(Y), max(X), max(Y)]\n",
    "        l = torch.tensor([float(x) for x in l])\n",
    "        return l"
   ]
  },
  {
   "cell_type": "code",
   "execution_count": 27,
   "metadata": {
    "ExecuteTime": {
     "end_time": "2018-08-17T13:28:07.203376Z",
     "start_time": "2018-08-17T13:28:07.198751Z"
    }
   },
   "outputs": [],
   "source": [
    "def initial_energy(first_boxes, method=\"ltd2\", cv=crit_vals, ): \n",
    "    l = first_boxes.shape[0]\n",
    "    ies = torch.zeros(l)  # initial_energies\n",
    "    # ltd2 = least total dist2\n",
    "    for i in range(l):\n",
    "        for j in range(l):\n",
    "            ie = dist2(first_boxes[i],first_boxes[j])\n",
    "            ies[i] += ie\n",
    "    ies = 1 / ies * crit_vals[\"id\"]\n",
    "    return ies\n",
    "            "
   ]
  },
  {
   "cell_type": "code",
   "execution_count": 28,
   "metadata": {
    "ExecuteTime": {
     "end_time": "2018-08-17T13:28:07.212212Z",
     "start_time": "2018-08-17T13:28:07.205997Z"
    }
   },
   "outputs": [],
   "source": [
    "def vec_dist(vec1, vec2, dist=dist):\n",
    "    \n",
    "    vd = None\n",
    "    \n",
    "    if len(vec1) > 80:\n",
    "        vec1[torch.argmax(vec1[6:]) + 6] = 1\n",
    "        vec2[torch.argmax(vec2[6:]) + 6] = 1\n",
    "        vd = dist(vec1[6:].view([1, -1]), vec2[6:].view([1, -1]))\n",
    "    else:\n",
    "        vec1[torch.argmax(vec1)] = 1\n",
    "        vec2[torch.argmax(vec2)] = 1\n",
    "        vd = dist(vec1.view([1, -1]), vec2.view([1, -1])) \n",
    "    return vd\n",
    "\n",
    "def the_closest_vec(row_to_compare, rows):\n",
    "    m, i = np.infty, 0\n",
    "    for n, row in enumerate(rows):\n",
    "        d = vec_dist(row, row_to_compare)\n",
    "        if d < m:\n",
    "            m = float(d)\n",
    "            i = n\n",
    "    return rows[i], i\n",
    "    "
   ]
  },
  {
   "cell_type": "code",
   "execution_count": 29,
   "metadata": {
    "ExecuteTime": {
     "end_time": "2018-08-17T13:28:07.227206Z",
     "start_time": "2018-08-17T13:28:07.215509Z"
    },
    "cell_style": "center"
   },
   "outputs": [],
   "source": [
    "def do_dp(vot_class, total_res):\n",
    "    yp, imlen = yolo_pred[vot_class]  # yolo predictions\n",
    "    \n",
    "    data = dict()\n",
    "    data[\"output\"] = yp\n",
    "    data[\"num_frames\"] = int(imlen)\n",
    "    data[\"CUDA\"] = CUDA\n",
    "    data[\"first\"] = get_first(vot_class)\n",
    "    \n",
    "    if CUDA:\n",
    "        data[\"output\"] = data[\"output\"].cuda()\n",
    "        data[\"first\"] = data[\"first\"].cuda()\n",
    "        \n",
    "    \n",
    "#     print(data[\"first\"])\n",
    "#     print(data[\"output\"][:10])\n",
    "#     data[\"output\"] = pp_first(data)\n",
    "#     print(data[\"output\"][:4])\n",
    "\n",
    "    \n",
    "    frames_with_detection = sorted(list(set(data[\"output\"][:,0].tolist())))\n",
    "    ffwdi = frames_with_detection[0]  # first_frame_with_detection_index\n",
    "    first_boxes = data[\"output\"][data[\"output\"][:, 0] == ffwdi]\n",
    "    \n",
    "    path = torch.zeros((len(first_boxes), imlen))\n",
    "    energies = torch.zeros((len(first_boxes), imlen))\n",
    "    \n",
    "    prev_boxes = first_boxes\n",
    "    path[:, 0] = first_boxes[0][0]\n",
    "    \n",
    "    \n",
    "    # calculate energies\n",
    "#     print(\"energies\")\n",
    "    for n, i in enumerate(frames_with_detection[:]):\n",
    "        \n",
    "#         if n == 0:\n",
    "#             continue\n",
    "            \n",
    "#         if n % 100 == 99:\n",
    "#             print(str(n / len(frames_with_detection[1:]) * 100)[:4], end=\"% \")\n",
    "    \n",
    "        i_boxes = data[\"output\"][data[\"output\"][:, 0] == i]\n",
    "        \n",
    "        boxes, energy = cebtf(prev_boxes, i_boxes)\n",
    "        \n",
    "        path[:, int(n)] = boxes\n",
    "        energies[:, int(n)] += energy\n",
    "        \n",
    "        prev_boxes = i_boxes[boxes.long()]\n",
    "        \n",
    "    verdict = torch.sum(energies, dim=1)\n",
    "    \n",
    "#     init energies   \n",
    "    ie = initial_energy(first_boxes, method=\"ltd2\")\n",
    "    ie = ie / max(ie) * max(verdict) * crit_vals[\"id\"]\n",
    "    \n",
    "    if verdict.shape != torch.Size([1]):\n",
    "        verdict += ie\n",
    "\n",
    "    \n",
    "    first_bb_candidates = (verdict == torch.max(verdict)).nonzero().view(-1).tolist()\n",
    "    res_i = path[first_bb_candidates].view(-1).int()\n",
    "    res = torch.zeros((len(frames_with_detection), 5))\n",
    "\n",
    "    # prepare for interpolation\n",
    "    for n, i in enumerate(frames_with_detection[:]):\n",
    "        cfp = data[\"output\"][data[\"output\"][:, 0] == i]  # current_frame_predictions\n",
    "        index = res_i[n]\n",
    "        cp = cfp[index] # chosen_prediction\n",
    "        res[int(n)] = cp[:5]\n",
    "        \n",
    "    \n",
    "#     print(\"\\ninterpolation\")\n",
    "\n",
    "    total_res[vot_class] = interpolate(data)[:, 1:5].tolist()\n",
    "    \n",
    "    return total_res\n",
    "    "
   ]
  },
  {
   "cell_type": "code",
   "execution_count": 30,
   "metadata": {
    "ExecuteTime": {
     "end_time": "2018-08-17T13:28:07.232527Z",
     "start_time": "2018-08-17T13:28:07.229477Z"
    },
    "cell_style": "center",
    "code_folding": []
   },
   "outputs": [],
   "source": [
    "total_res=dict()\n",
    "CUDA = False"
   ]
  },
  {
   "cell_type": "code",
   "execution_count": null,
   "metadata": {
    "ExecuteTime": {
     "end_time": "2018-08-17T11:35:35.346750Z",
     "start_time": "2018-08-17T11:35:35.344099Z"
    },
    "cell_style": "center",
    "code_folding": []
   },
   "outputs": [],
   "source": [
    "    "
   ]
  },
  {
   "cell_type": "code",
   "execution_count": 31,
   "metadata": {
    "ExecuteTime": {
     "end_time": "2018-08-17T13:28:09.276483Z",
     "start_time": "2018-08-17T13:28:09.272983Z"
    }
   },
   "outputs": [
    {
     "data": {
      "text/plain": [
       "dict_keys(['blanket', 'bolt2', 'traffic', 'ball1', 'leaves', 'pedestrian1', 'singer3', 'helicopter', 'godfather', 'soccer1', 'book', 'tunnel', 'gymnastics1', 'basketball', 'birds1', 'car1', 'ball2', 'birds2', 'motocross1', 'bmx', 'gymnastics2', 'fish3', 'motocross2', 'soccer2', 'octopus', 'fernando', 'shaking', 'crossing', 'singer2', 'soldier', 'pedestrian2', 'nature', 'butterfly', 'road', 'iceskater2', 'sphere', 'fish2', 'graduate', 'marching', 'rabbit', 'car2', 'matrix', 'girl', 'tiger', 'gymnastics4', 'wiper', 'racing', 'dinosaur', 'bolt1', 'hand', 'handball1', 'bag', 'sheep', 'iceskater1', 'fish1', 'singer1', 'gymnastics3', 'fish4', 'glove', 'handball2'])"
      ]
     },
     "execution_count": 31,
     "metadata": {},
     "output_type": "execute_result"
    }
   ],
   "source": [
    "yolo_pred.keys()"
   ]
  },
  {
   "cell_type": "code",
   "execution_count": null,
   "metadata": {
    "ExecuteTime": {
     "end_time": "2018-08-17T13:07:17.372365Z",
     "start_time": "2018-08-17T13:07:17.366537Z"
    }
   },
   "outputs": [],
   "source": []
  },
  {
   "cell_type": "code",
   "execution_count": null,
   "metadata": {
    "ExecuteTime": {
     "end_time": "2018-08-17T11:35:42.656256Z",
     "start_time": "2018-08-17T11:35:35.560772Z"
    },
    "cell_style": "center",
    "code_folding": []
   },
   "outputs": [],
   "source": []
  },
  {
   "cell_type": "code",
   "execution_count": 32,
   "metadata": {
    "ExecuteTime": {
     "end_time": "2018-08-17T13:28:10.384236Z",
     "start_time": "2018-08-17T13:28:10.374329Z"
    },
    "cell_style": "center"
   },
   "outputs": [],
   "source": [
    "def save(res, folder, ext=\"csv\", nm_fr=None):\n",
    "    if not os.path.exists(folder):\n",
    "        os.makedirs(folder)\n",
    "    for name in res:\n",
    "        if nm_fr is not None:\n",
    "            print(nm_fr[name], file=open(osp.join(folder, name + \".\" + ext), 'w+'))\n",
    "            print(\"\\n\".join([\",\".join([str(a) for a in x]) for x in res[name]]),\n",
    "                  file=open(osp.join(folder, name + \".\" + ext), 'a'))\n",
    "        else:\n",
    "            print(\"\\n\".join([\",\".join([str(a) for a in x]) for x in res[name]]),\n",
    "                  file=open(osp.join(folder, name + \".\" + ext), 'w+'))\n"
   ]
  },
  {
   "cell_type": "code",
   "execution_count": null,
   "metadata": {
    "cell_style": "center"
   },
   "outputs": [],
   "source": []
  },
  {
   "cell_type": "code",
   "execution_count": 33,
   "metadata": {
    "ExecuteTime": {
     "end_time": "2018-08-17T13:28:11.992931Z",
     "start_time": "2018-08-17T13:28:11.987283Z"
    }
   },
   "outputs": [],
   "source": [
    "def iou(cords1, cords2):\n",
    "    if len(cords2) < 4:\n",
    "        if (cords2[0] == 1):\n",
    "            return 1\n",
    "        return 1\n",
    "    if (len(cords1) == 8):\n",
    "        X1, Y1 = cords1[::2], cords1[1::2]\n",
    "        cords1 = [min(X1), min(Y1), max(X1),  max(Y1)]\n",
    "    if (len(cords2) == 8):\n",
    "        X2, Y2 = cords2[::2], cords2[1::2]\n",
    "        cords2 = [min(X2), min(Y2), max(X2),  max(Y2)]\n",
    "    xA = max(cords1[0], cords2[0])\n",
    "    yA = max(cords1[1], cords2[1])\n",
    "    xB = min(cords1[2], cords2[2])\n",
    "    yB = min(cords1[3], cords2[3])\n",
    "    interArea = max(0, xB - xA + 1e-32) * max(0, yB - yA + 1e-32)\n",
    "    cords1Area = (cords1[2] - cords1[0] + 1e-32) * \\\n",
    "        (cords1[3] - cords1[1] + 1e-32)\n",
    "    cords2Area = (cords2[2] - cords2[0] + 1e-32) * \\\n",
    "        (cords2[3] - cords2[1] + 1e-32)\n",
    "    return interArea / float(cords1Area + cords2Area - interArea)"
   ]
  },
  {
   "cell_type": "code",
   "execution_count": 34,
   "metadata": {
    "ExecuteTime": {
     "end_time": "2018-08-17T13:28:12.234995Z",
     "start_time": "2018-08-17T13:28:12.228820Z"
    }
   },
   "outputs": [],
   "source": [
    "def open_and_cast(file):\n",
    "    with open(file, 'r') as f:\n",
    "        pred = [s.split(',') for s in f.read().split(\"\\n\")]\n",
    "        for i in range(len(pred)):\n",
    "            if pred[i] == [\"\"]:\n",
    "                pred.pop(i)\n",
    "                continue\n",
    "            pred[i] = [float(x) for x in pred[i]]\n",
    "    return pred"
   ]
  },
  {
   "cell_type": "code",
   "execution_count": 35,
   "metadata": {
    "ExecuteTime": {
     "end_time": "2018-08-17T13:28:12.501903Z",
     "start_time": "2018-08-17T13:28:12.498435Z"
    }
   },
   "outputs": [],
   "source": [
    "def grade(gt_path, pred_path, method=\"mean_iou\"):\n",
    "    gt = open_and_cast(gt_path)\n",
    "    pred = open_and_cast(pred_path)\n",
    "    grades = [iou(gt[i], pred[i]) for i in range(len(gt))]\n",
    "    return sum(grades) / len(grades), grades"
   ]
  },
  {
   "cell_type": "code",
   "execution_count": 36,
   "metadata": {
    "ExecuteTime": {
     "end_time": "2018-08-17T13:28:13.039205Z",
     "start_time": "2018-08-17T13:28:13.032293Z"
    }
   },
   "outputs": [],
   "source": [
    "def grade_vot(vot_folder, res_folder, gt_filename=\"groundtruth.txt\", ext=\".csv\"):\n",
    "    vot_folders = sorted(os.listdir(vot_folder)) #[\"bolt1\"]# \n",
    "    res = dict()\n",
    "    for i in range(len(vot_folders)):\n",
    "        if (vot_folders[i].endswith(\".txt\")):\n",
    "            continue\n",
    "        gt_file = osp.join(vot_folder, vot_folders[i], gt_filename)\n",
    "        pred_file = osp.join(res_folder, vot_folders[i] + ext)\n",
    "\n",
    "        # print(\"++++++++++++\")\n",
    "        # print(gt_file) \n",
    "        # print(pred_file)\n",
    "        # print(\"++++++++++++\")\n",
    "\n",
    "        single_grade = grade(gt_file, pred_file)[0]\n",
    "        res[vot_folders[i]] = single_grade\n",
    "    mean = 0\n",
    "    for i in res:\n",
    "        mean += res[i]\n",
    "    mean /= len(res.keys())\n",
    "    return mean, res"
   ]
  },
  {
   "cell_type": "code",
   "execution_count": 37,
   "metadata": {
    "ExecuteTime": {
     "end_time": "2018-08-17T13:28:15.508170Z",
     "start_time": "2018-08-17T13:28:15.503678Z"
    }
   },
   "outputs": [],
   "source": [
    "params = list()\n",
    "for i in range(0, 4):\n",
    "    for j in range(0, 4):\n",
    "        for k in range(0, 4):\n",
    "            if not (k == j == i):\n",
    "                params.append((i,j,k))"
   ]
  },
  {
   "cell_type": "code",
   "execution_count": 38,
   "metadata": {
    "ExecuteTime": {
     "end_time": "2018-08-17T13:28:16.878334Z",
     "start_time": "2018-08-17T13:28:16.870359Z"
    }
   },
   "outputs": [],
   "source": [
    "params = params[10:20]"
   ]
  },
  {
   "cell_type": "code",
   "execution_count": null,
   "metadata": {
    "ExecuteTime": {
     "start_time": "2018-08-17T13:28:17.553Z"
    }
   },
   "outputs": [
    {
     "name": "stdout",
     "output_type": "stream",
     "text": [
      "{'iou': 2, 'cc': 0, 'id': 1, 'vd': 3}\n",
      "bag ball1 ball2 basketball birds1 birds2 blanket bmx bolt1 bolt2 book butterfly car1 car2 crossing dinosaur fernando fish1 fish2 fish3 fish4 girl glove godfather graduate gymnastics1 gymnastics2 gymnastics3 gymnastics4 hand handball1 handball2 helicopter iceskater1 iceskater2 leaves marching matrix motocross1 motocross2 nature octopus pedestrian1 pedestrian2 rabbit racing road shaking sheep singer1 singer2 singer3 soccer1 soccer2 soldier sphere tiger traffic tunnel wiper 2368.5514690876007\n",
      "\n",
      "{'iou': 3, 'cc': 0, 'id': 1, 'vd': 0}\n",
      "bag ball1 ball2 basketball birds1 birds2 blanket bmx bolt1 bolt2 book butterfly car1 car2 crossing dinosaur fernando fish1 fish2 fish3 fish4 girl glove godfather graduate gymnastics1 gymnastics2 gymnastics3 gymnastics4 hand handball1 handball2 helicopter iceskater1 iceskater2 leaves marching matrix motocross1 motocross2 nature octopus pedestrian1 pedestrian2 rabbit racing road shaking sheep singer1 singer2 singer3 soccer1 soccer2 soldier sphere tiger traffic tunnel wiper 2747.072830915451\n",
      "\n",
      "{'iou': 3, 'cc': 0, 'id': 1, 'vd': 1}\n",
      "bag ball1 ball2 basketball birds1 birds2 blanket bmx bolt1 bolt2 book butterfly car1 car2 crossing dinosaur fernando fish1 fish2 fish3 fish4 girl glove godfather graduate gymnastics1 gymnastics2 gymnastics3 gymnastics4 hand handball1 handball2 helicopter iceskater1 iceskater2 leaves marching matrix motocross1 motocross2 nature octopus pedestrian1 pedestrian2 rabbit racing road shaking sheep singer1 singer2 singer3 soccer1 soccer2 soldier sphere tiger traffic tunnel wiper 2662.1353437900543\n",
      "\n",
      "{'iou': 3, 'cc': 0, 'id': 1, 'vd': 2}\n",
      "bag ball1 ball2 basketball birds1 birds2 blanket bmx bolt1 bolt2 book butterfly car1 car2 crossing dinosaur fernando fish1 fish2 fish3 fish4 girl glove godfather graduate gymnastics1 gymnastics2 gymnastics3 gymnastics4 hand handball1 handball2 helicopter iceskater1 iceskater2 leaves marching matrix motocross1 motocross2 nature octopus pedestrian1 pedestrian2 rabbit racing road shaking sheep singer1 singer2 singer3 soccer1 soccer2 soldier sphere tiger traffic tunnel wiper 2647.3918738365173\n",
      "\n",
      "{'iou': 3, 'cc': 0, 'id': 1, 'vd': 3}\n",
      "bag ball1 ball2 basketball birds1 birds2 blanket bmx bolt1 bolt2 book butterfly car1 car2 crossing dinosaur fernando fish1 fish2 fish3 fish4 girl glove godfather graduate gymnastics1 gymnastics2 gymnastics3 gymnastics4 hand handball1 handball2 helicopter iceskater1 iceskater2 leaves marching matrix motocross1 motocross2 nature octopus pedestrian1 pedestrian2 rabbit racing road shaking sheep singer1 singer2 singer3 soccer1 soccer2 soldier sphere tiger traffic tunnel wiper 2654.9342732429504\n",
      "\n",
      "{'iou': 0, 'cc': 1, 'id': 1, 'vd': 0}\n",
      "bag ball1 ball2 basketball birds1 birds2 blanket bmx bolt1 bolt2 book butterfly car1 car2 crossing dinosaur fernando fish1 fish2 fish3 fish4 girl glove godfather graduate gymnastics1 gymnastics2 gymnastics3 gymnastics4 hand handball1 handball2 helicopter iceskater1 iceskater2 leaves marching matrix motocross1 motocross2 nature octopus pedestrian1 pedestrian2 rabbit racing road shaking sheep singer1 singer2 singer3 soccer1 soccer2 soldier sphere tiger traffic tunnel wiper 2634.004430770874\n",
      "\n",
      "{'iou': 0, 'cc': 1, 'id': 1, 'vd': 1}\n",
      "bag ball1 ball2 basketball birds1 birds2 blanket bmx bolt1 bolt2 book butterfly car1 car2 crossing dinosaur fernando fish1 fish2 fish3 fish4 girl glove godfather graduate gymnastics1 gymnastics2 gymnastics3 gymnastics4 hand handball1 handball2 helicopter iceskater1 iceskater2 leaves marching matrix motocross1 motocross2 nature octopus pedestrian1 pedestrian2 rabbit racing road shaking sheep singer1 singer2 singer3 soccer1 soccer2 soldier sphere tiger traffic tunnel wiper 2637.6108803749084\n",
      "\n",
      "{'iou': 0, 'cc': 1, 'id': 1, 'vd': 2}\n",
      "bag ball1 ball2 basketball birds1 birds2 blanket bmx bolt1 bolt2 book butterfly car1 car2 crossing dinosaur fernando fish1 fish2 fish3 fish4 girl glove godfather graduate gymnastics1 gymnastics2 gymnastics3 gymnastics4 hand handball1 handball2 helicopter iceskater1 iceskater2 leaves marching matrix motocross1 motocross2 nature octopus pedestrian1 pedestrian2 rabbit racing road shaking sheep singer1 singer2 singer3 soccer1 soccer2 soldier sphere tiger traffic tunnel wiper 2584.176551580429\n",
      "\n",
      "{'iou': 0, 'cc': 1, 'id': 1, 'vd': 3}\n",
      "bag ball1 ball2 basketball birds1 birds2 blanket bmx bolt1 bolt2 book butterfly car1 car2 crossing dinosaur fernando fish1 fish2 fish3 fish4 girl glove godfather graduate gymnastics1 gymnastics2 gymnastics3 gymnastics4 hand handball1 handball2 helicopter iceskater1 iceskater2 leaves marching matrix motocross1 motocross2 nature octopus pedestrian1 pedestrian2 rabbit racing road shaking sheep singer1 singer2 singer3 soccer1 soccer2 soldier sphere tiger traffic tunnel wiper 2653.753075361252\n",
      "\n",
      "{'iou': 1, 'cc': 1, 'id': 1, 'vd': 0}\n",
      "bag ball1 ball2 basketball birds1 birds2 blanket bmx bolt1 bolt2 book butterfly car1 car2 crossing dinosaur fernando fish1 fish2 fish3 fish4 girl glove godfather "
     ]
    }
   ],
   "source": [
    "for param in params:\n",
    "    total_res = dict()\n",
    "    crit_vals[\"cc\"], crit_vals[\"iou\"], crit_vals[\"vd\"] = param\n",
    "    dirname = osp.join(\"param_tests\", '_'.join(['%s%s' % (key, value) for (key, value) in crit_vals.items()]))\n",
    "    \n",
    "    print(crit_vals)\n",
    "    start = time.time()\n",
    "    \n",
    "    for n, vot_class in enumerate(sorted([x for x in os.listdir(vot_path) if not x.endswith(\".txt\")])):\n",
    "        \n",
    "        print(vot_class, end=\" \")\n",
    "        do_dp(vot_class, total_res)\n",
    "        \n",
    "    save(total_res, dirname)\n",
    "    a = grade_vot(vot_path, dirname)  \n",
    "    print(a, file = open(dirname + \".txt\", \"w+\"))\n",
    "        \n",
    "    done = time.time()\n",
    "    elapsed = done - start\n",
    "    print(elapsed)\n",
    "    \n",
    "    print()        "
   ]
  },
  {
   "cell_type": "code",
   "execution_count": 54,
   "metadata": {
    "ExecuteTime": {
     "end_time": "2018-08-17T11:02:13.228951Z",
     "start_time": "2018-08-17T11:02:13.015185Z"
    }
   },
   "outputs": [],
   "source": [
    "import matplotlib.pyplot as plt\n",
    "from PIL import Image\n",
    "import os\n",
    "import os.path as osp\n",
    "import argparse\n",
    "import torch\n",
    "import matplotlib.pyplot as plt\n",
    "import matplotlib.patches as patches\n",
    "from PIL import Image\n",
    "from random import randrange\n",
    "import numpy as np\n",
    "from matplotlib.pyplot import figure"
   ]
  },
  {
   "cell_type": "code",
   "execution_count": 106,
   "metadata": {
    "ExecuteTime": {
     "end_time": "2018-08-16T12:27:38.046845Z",
     "start_time": "2018-08-16T12:27:38.016027Z"
    }
   },
   "outputs": [],
   "source": [
    "def plot_single_arr(im_path, pr_arr=None, pr_idx=0, gt_arr=None, gt_idx=0, force_square=False):\n",
    "    im = Image.open(im_path)\n",
    "    plt.imshow(im)\n",
    "\n",
    "    if pr_arr is not None:\n",
    "        l = pr_arr[pr_idx]\n",
    "        if l == \"\":\n",
    "            return\n",
    "        pr_bb = [float(x) for x in l.split(',')]\n",
    "        if len(pr_bb) < 4:\n",
    "            return\n",
    "        if force_square:\n",
    "            X, Y = pr_bb[::2], pr_bb[1::2]\n",
    "            pr_bb = [min(X), min(Y), max(X),  max(Y)]\n",
    "            plt.plot([pr_bb[0], pr_bb[2], pr_bb[2], pr_bb[0], pr_bb[0], ],\n",
    "                     [pr_bb[1], pr_bb[1], pr_bb[3], pr_bb[3], pr_bb[1], ], 'r-', lw=2)\n",
    "        elif (len(pr_bb) == 8):\n",
    "            plt.plot(pr_bb[::2] + [pr_bb[0]],\n",
    "                     pr_bb[1::2] + [pr_bb[1]], 'r-', lw=2)\n",
    "        else:\n",
    "            plt.plot([pr_bb[0], pr_bb[2], pr_bb[2], pr_bb[0], pr_bb[0], ],\n",
    "                     [pr_bb[1], pr_bb[1], pr_bb[3], pr_bb[3], pr_bb[1], ], 'r-', lw=2)\n",
    "\n",
    "    if gt_arr is not None:\n",
    "        l = gt_arr[gt_idx]\n",
    "        if l == \"\":\n",
    "            return\n",
    "        gt_bb = [float(x) for x in l.split(',')]\n",
    "\n",
    "        if (force_square):\n",
    "            X, Y = gt_bb[::2], gt_bb[1::2]\n",
    "            gt_bb = [min(X), min(Y), max(X),  max(Y)]\n",
    "            plt.plot([gt_bb[0], gt_bb[2], gt_bb[2], gt_bb[0], gt_bb[0], ],\n",
    "                     [gt_bb[1], gt_bb[1], gt_bb[3], gt_bb[3], gt_bb[1], ], 'b-', lw=2)\n",
    "        elif (len(gt_bb) == 8):\n",
    "            plt.plot(gt_bb[::2] + [gt_bb[0]],\n",
    "                     gt_bb[1::2] + [gt_bb[1]], 'b-', lw=2)\n",
    "        else:\n",
    "            plt.plot([gt_bb[0], gt_bb[2], gt_bb[2], gt_bb[0], gt_bb[0], ],\n",
    "                     [gt_bb[1], gt_bb[1], gt_bb[3], gt_bb[3], gt_bb[1], ], 'b-', lw=2)\n",
    "\n",
    "\n",
    "def plot_single(im_path, pr_path=None, pr_idx=0, gt_path=None, gt_idx=0, force_square=False):\n",
    "    \"\"\"\n",
    "    coords: [x1, y1, x2, y2, x3, y3, x4, y4]\n",
    "    \"\"\"\n",
    "\n",
    "    im = Image.open(im_path)\n",
    "    plt.imshow(im)\n",
    "\n",
    "    if pr_path is not None:\n",
    "        with open(pr_path, 'r') as f:\n",
    "            l = f.read().split(\"\\n\")[pr_idx]\n",
    "            if l == \"\":\n",
    "                return\n",
    "            pr_bb = [float(x) for x in l.split(',')]\n",
    "\n",
    "        if (force_square):\n",
    "            X, Y = pr_bb[::2], pr_bb[1::2]\n",
    "            pr_bb = [min(X), min(Y), max(X),  max(Y)]\n",
    "            plt.plot([pr_bb[0], pr_bb[2], pr_bb[2], pr_bb[0], pr_bb[0], ],\n",
    "                     [pr_bb[1], pr_bb[1], pr_bb[3], pr_bb[3], pr_bb[1], ], 'r-', lw=2)\n",
    "        elif (len(pr_bb) == 8):\n",
    "            plt.plot(pr_bb[::2] + [pr_bb[0]],\n",
    "                     pr_bb[1::2] + [pr_bb[1]], 'r-', lw=2)\n",
    "        else:\n",
    "            plt.plot([pr_bb[0], pr_bb[2], pr_bb[2], pr_bb[0], pr_bb[0], ],\n",
    "                     [pr_bb[1], pr_bb[1], pr_bb[3], pr_bb[3], pr_bb[1], ], 'r-', lw=2)\n",
    "\n",
    "    if gt_path is not None:\n",
    "        with open(gt_path, 'r') as f:\n",
    "            l = f.read().split(\"\\n\")[gt_idx]\n",
    "            gt_bb = [float(x) for x in l.split(',')]\n",
    "\n",
    "        if (force_square):\n",
    "            X, Y = gt_bb[::2], gt_bb[1::2]\n",
    "            gt_bb = [min(X), min(Y), max(X),  max(Y)]\n",
    "            plt.plot([gt_bb[0], gt_bb[2], gt_bb[2], gt_bb[0], gt_bb[0], ],\n",
    "                     [gt_bb[1], gt_bb[1], gt_bb[3], gt_bb[3], gt_bb[1], ], 'b-', lw=2)\n",
    "        elif (len(gt_bb) == 8):\n",
    "            plt.plot(gt_bb[::2] + [gt_bb[0]],\n",
    "                     gt_bb[1::2] + [gt_bb[1]], 'b-', lw=2)\n",
    "        else:\n",
    "            plt.plot([gt_bb[0], gt_bb[2], gt_bb[2], gt_bb[0], gt_bb[0], ],\n",
    "                     [gt_bb[1], gt_bb[1], gt_bb[3], gt_bb[3], gt_bb[1], ], 'b-', lw=2)\n",
    "\n",
    "\n",
    "def save_plot_single_arr(im_path, name=\"plot.jpg\", pr_arr=None, pr_idx=0, gt_arr=None, gt_idx=0, force_square=False):\n",
    "    plot_single_arr(im_path, pr_arr, pr_idx, gt_arr, gt_idx, force_square)\n",
    "    plt.show()\n",
    "    # plt.savefig(name)\n",
    "\n",
    "\n",
    "def save_plot_single(im_path, name=\"plot.jpg\", pr_path=None, pr_idx=0, gt_path=None, gt_idx=0, force_square=False):\n",
    "    plot_single(im_path, pr_path, pr_idx, gt_path, gt_idx, force_square)\n",
    "    plt.savefig(name)\n",
    "\n",
    "\n",
    "def save_plot_folder(dir_path, saveto=\"results\", pr_path=None, gt_path=None, force_square=False):\n",
    "    if (not os.path.exists(saveto)):\n",
    "        os.makedirs(saveto)\n",
    "    files = sorted([x for x in os.listdir(dir_path) if x.endswith(\".jpg\")])\n",
    "\n",
    "    if gt_path is not None:\n",
    "        with open(gt_path, 'r') as f:\n",
    "            gt_arr = f.read().split(\"\\n\")\n",
    "\n",
    "    if pr_path is not None:\n",
    "        with open(pr_path, 'r') as f:\n",
    "            pr_arr = f.read().split(\"\\n\")\n",
    "\n",
    "    for n, file in enumerate(files):\n",
    "        name = osp.join(saveto, file)\n",
    "#         print(\"saving {}\".format(name))\n",
    "        save_plot_single_arr(osp.join(dir_path, file), name=name, pr_arr=pr_arr,\n",
    "                             pr_idx=n, gt_arr=gt_arr, gt_idx=n, force_square=force_square)\n",
    "        plt.close()\n",
    "\n",
    "\n",
    "def csv2tensor(path_to_file, first_len=False):\n",
    "    with open(path_to_file, 'r') as f:\n",
    "        pr_arr = f.read().split(\"\\n\")\n",
    "        if first_len:\n",
    "            im_len = int(pr_arr.pop(0))\n",
    "        else:\n",
    "            im_len = -1\n",
    "        pr_arr.pop(-1)\n",
    "        pr_arr = [[float(y) for y in x.split(\",\")] for x in pr_arr]\n",
    "        return torch.tensor(pr_arr), im_len\n",
    "\n",
    "\n",
    "def plot_single_yolo(im_path, pr_arr, pr_idx, gt_arr, gt_idx, force_square, gs=False):\n",
    "    im = np.array(Image.open(im_path), dtype=np.uint8)\n",
    "    # Create figure and axes\n",
    "    fig, ax = plt.subplots(1)\n",
    "    # Display the image\n",
    "    ax.imshow(im)\n",
    "    # Create a Rectangle patch\n",
    "    for row in pr_arr[pr_arr[:, 0] == pr_idx]:\n",
    "        color = (randrange(1, 99) / 100, randrange(1, 99) /\n",
    "                 100, randrange(1, 99) / 100) if gs == False else (.7, .7, .7)\n",
    "        label = classes[int(row[-1])]\n",
    "        x, y = float(row[1]), float(row[2])\n",
    "        h, w = float(row[4]) - y, float(row[3]) - x\n",
    "        rect = patches.Rectangle(\n",
    "            (x, y), w, h, linewidth=2, edgecolor=color, facecolor='none', label=label)\n",
    "        # Add the patch to the Axes\n",
    "        ax.add_patch(rect)\n",
    "        ax.annotate(label, (x, y), color=color, weight='bold',\n",
    "                    fontsize=10, ha='left', va='top')\n",
    "    # plt.show()\n",
    "\n",
    "\n",
    "def save_plot_single_yolo(im_path, name=\"plot.jpg\", pr_tensor=None, pr_idx=0, gt_tensor=None, gt_idx=0, force_square=False, gs=False):\n",
    "    plot_single_yolo(im_path, pr_tensor, pr_idx,\n",
    "                     gt_tensor, gt_idx, force_square, gs)\n",
    "    # plt.savefig(name)\n",
    "\n",
    "\n",
    "def save_plot_everything(imgs_folder=None, yolo_pred_file=None, pred_file=None, gt_file=None, saveto=\"results\", force_square=False):\n",
    "    plt.figure(figsize=(60, 80))\n",
    "    \n",
    "    if (not os.path.exists(saveto)):\n",
    "        os.makedirs(saveto)\n",
    "    files = sorted([x for x in os.listdir(imgs_folder) if x.endswith(\".jpg\")])\n",
    "\n",
    "    if gt_file is not None:\n",
    "        gt_tensor, gt_len = csv2tensor(gt_file)\n",
    "\n",
    "    if pred_file is not None:\n",
    "        pred_tensor, pred_len = csv2tensor(pred_file)\n",
    "\n",
    "    if pred_file is not None:\n",
    "        yolo_pred_tensor, yolo_pred_len = csv2tensor(yolo_pred_file, True)\n",
    "\n",
    "    for n, file in enumerate(files):\n",
    "        name = osp.join(saveto, file)\n",
    "#         print(\"saving {}\".format(name))\n",
    "        impath = osp.join(imgs_folder, file)\n",
    "\n",
    "        plot_single_yolo(impath, yolo_pred_tensor, n,\n",
    "                         gt_tensor, n, force_square, gs=True)\n",
    "        plot_single(impath, pred_file, n, gt_file, n, force_square=True)\n",
    "        plt.savefig(name)\n",
    "        plt.show()\n",
    "        plt.close()\n",
    "        "
   ]
  },
  {
   "cell_type": "code",
   "execution_count": 107,
   "metadata": {
    "ExecuteTime": {
     "end_time": "2018-08-16T12:27:38.144412Z",
     "start_time": "2018-08-16T12:27:38.136115Z"
    }
   },
   "outputs": [],
   "source": [
    "%matplotlib inline"
   ]
  },
  {
   "cell_type": "code",
   "execution_count": 44,
   "metadata": {
    "ExecuteTime": {
     "end_time": "2018-08-17T08:14:08.939760Z",
     "start_time": "2018-08-17T08:14:08.924928Z"
    }
   },
   "outputs": [
    {
     "ename": "NameError",
     "evalue": "name 'save_plot_everything' is not defined",
     "output_type": "error",
     "traceback": [
      "\u001b[0;31m---------------------------------------------------------------------------\u001b[0m",
      "\u001b[0;31mNameError\u001b[0m                                 Traceback (most recent call last)",
      "\u001b[0;32m<ipython-input-44-cc89416007f0>\u001b[0m in \u001b[0;36m<module>\u001b[0;34m()\u001b[0m\n\u001b[1;32m     13\u001b[0m \u001b[0;31m#                  force_square=True)\u001b[0m\u001b[0;34m\u001b[0m\u001b[0;34m\u001b[0m\u001b[0m\n\u001b[1;32m     14\u001b[0m \u001b[0;34m\u001b[0m\u001b[0m\n\u001b[0;32m---> 15\u001b[0;31m save_plot_everything(imgs_folder=osp.join(\"/home/zabulskyy/Datasets/vot2016\", cls), yolo_pred_file=osp.join(yolo_pred, cls+\".csv\"),\n\u001b[0m\u001b[1;32m     16\u001b[0m                     \u001b[0mpred_file\u001b[0m\u001b[0;34m=\u001b[0m\u001b[0mosp\u001b[0m\u001b[0;34m.\u001b[0m\u001b[0mjoin\u001b[0m\u001b[0;34m(\u001b[0m\u001b[0;34m\"./\"\u001b[0m \u001b[0;34m+\u001b[0m \u001b[0mmet\u001b[0m\u001b[0;34m,\u001b[0m \u001b[0mcls\u001b[0m\u001b[0;34m)\u001b[0m \u001b[0;34m+\u001b[0m \u001b[0;34m\".csv\"\u001b[0m\u001b[0;34m,\u001b[0m \u001b[0msaveto\u001b[0m\u001b[0;34m=\u001b[0m\u001b[0;34m\"lololo\"\u001b[0m\u001b[0;34m,\u001b[0m\u001b[0;34m\u001b[0m\u001b[0m\n\u001b[1;32m     17\u001b[0m                     force_square=True, gt_file=osp.join(\n",
      "\u001b[0;31mNameError\u001b[0m: name 'save_plot_everything' is not defined"
     ]
    }
   ],
   "source": [
    "# save_plot_single(\"/home/zabulskyy/Datasets/vot2016/leaves/00000100.jpg\",\n",
    "#                  pr_path=\"/home/zabulskyy/Projects/CTU-Research/results/yolo-blind/leaves.txt\",\n",
    "#                  gt_path=\"/home/zabulskyy/Datasets/vot2016/leaves/groundtruth.txt\",\n",
    "#                  force_square=True, gt_idx=101, pr_idx=101)\n",
    "cls = \"birds2\"\n",
    "met = \"../results/first_results_more_cc_first_init\"\n",
    "yolo_pred = \"../yolo_predictions/extended/\"\n",
    "\n",
    "# save_plot_folder(osp.join(\"/home/zabulskyy/Datasets/vot2016\", cls), saveto=osp.join(\"plots\", met, cls),\n",
    "#                  pr_path=osp.join(\"notebooks/\" + met, cls) + \".csv\",\n",
    "#                  gt_path=osp.join(\n",
    "#                      \"/home/zabulskyy/Datasets/vot2016\", cls, \"groundtruth.txt\"),\n",
    "#                  force_square=True)\n",
    "\n",
    "save_plot_everything(imgs_folder=osp.join(\"/home/zabulskyy/Datasets/vot2016\", cls), yolo_pred_file=osp.join(yolo_pred, cls+\".csv\"),\n",
    "                    pred_file=osp.join(\"./\" + met, cls) + \".csv\", saveto=\"lololo\",\n",
    "                    force_square=True, gt_file=osp.join(\n",
    "                     \"/home/zabulskyy/Datasets/vot2016\", cls, \"groundtruth.txt\"))\n",
    "\n",
    "\n",
    "# save_plot_folder(\"/home/zabulskyy/Datasets/vot2016/leaves\", saveto=\"./plots/yolo-first-smart-smart/leaves\",\n",
    "#                 pr_path=\"./results/yolo-first-smart-smart/leaves.txt\",\n",
    "#                 gt_path=\"/home/zabulskyy/Datasets/vot2016/leaves/groundtruth.txt\",\n",
    "#                 force_square=True)"
   ]
  },
  {
   "cell_type": "code",
   "execution_count": null,
   "metadata": {
    "ExecuteTime": {
     "end_time": "2018-08-15T09:04:28.995091Z",
     "start_time": "2018-08-15T09:04:28.988770Z"
    }
   },
   "outputs": [],
   "source": []
  },
  {
   "cell_type": "code",
   "execution_count": null,
   "metadata": {
    "ExecuteTime": {
     "end_time": "2018-08-15T09:06:59.077930Z",
     "start_time": "2018-08-15T09:06:59.071661Z"
    }
   },
   "outputs": [],
   "source": []
  },
  {
   "cell_type": "code",
   "execution_count": null,
   "metadata": {
    "ExecuteTime": {
     "end_time": "2018-08-15T11:57:33.014029Z",
     "start_time": "2018-08-15T11:57:04.461Z"
    }
   },
   "outputs": [],
   "source": [
    "dist(a[0].view([1, -1]), a[1].view([1, -1]))"
   ]
  },
  {
   "cell_type": "code",
   "execution_count": 61,
   "metadata": {
    "ExecuteTime": {
     "end_time": "2018-08-15T12:11:58.263191Z",
     "start_time": "2018-08-15T12:11:58.210474Z"
    }
   },
   "outputs": [],
   "source": [
    "fuck = {'bag': 0.47341449394132396,\n",
    "  'ball1': 0.04066745546054344,\n",
    "  'ball2': 0.01968759353660599,\n",
    "  'basketball': 0.08591364331679942,\n",
    "  'birds1': 0.3921305659682844,\n",
    "  'birds2': 0.45740317332263886,\n",
    "  'blanket': 0.172603747922678,\n",
    "  'bmx': 0.6300109110970414,\n",
    "  'bolt1': 0.2808943469874849,\n",
    "  'bolt2': 0.5475087886257609,\n",
    "  'book': 0.1441035796794451,\n",
    "  'butterfly': 0.2156443579467966,\n",
    "  'car1': 0.6491787929225329,\n",
    "  'car2': 0.06424491817679769,\n",
    "  'crossing': 0.5879241609277033,\n",
    "  'dinosaur': 0.1553241665037338,\n",
    "  'fernando': 0.515662651959916,\n",
    "  'fish1': 0.0100746068440364,\n",
    "  'fish2': 0.07322816945968362,\n",
    "  'fish3': 0.4081342253822134,\n",
    "  'fish4': 0.05187287344261048,\n",
    "  'girl': 0.4962291888002887,\n",
    "  'glove': 0.04299043131144828,\n",
    "  'godfather': 0.020180477733239343,\n",
    "  'graduate': 0.27383351199299727,\n",
    "  'gymnastics1': 0.4757011380675518,\n",
    "  'gymnastics2': 0.43384820471782165,\n",
    "  'gymnastics3': 0.07143412677907762,\n",
    "  'gymnastics4': 0.6442061806280363,\n",
    "  'hand': 0.08472788852124055,\n",
    "  'handball1': 0.0028024224057576316,\n",
    "  'handball2': 0.06613589283362757,\n",
    "  'helicopter': 0.02600585680138968,\n",
    "  'iceskater1': 0.6477765964970537,\n",
    "  'iceskater2': 0.578808090320845,\n",
    "  'leaves': 0.0,\n",
    "  'marching': 0.21135254870586478,\n",
    "  'matrix': 0.03930155209327502,\n",
    "  'motocross1': 0.4409126709782752,\n",
    "  'motocross2': 0.29600126287717954,\n",
    "  'nature': 0.05235303942705318,\n",
    "  'octopus': 0.5819586222778861,\n",
    "  'pedestrian1': 0.36362883539794993,\n",
    "  'pedestrian2': 0.739905099710942,\n",
    "  'rabbit': 0.00021607668653657693,\n",
    "  'racing': 0.765155737134693,\n",
    "  'road': 0.5549116377884301,\n",
    "  'shaking': 0.08212679895837427,\n",
    "  'sheep': 0.6274904191390392,\n",
    "  'singer1': 0.1426826696760581,\n",
    "  'singer2': 0.5789162481757931,\n",
    "  'singer3': 0.1837715864090872,\n",
    "  'soccer1': 0.048865984914190544,\n",
    "  'soccer2': 0.02600265236755819,\n",
    "  'soldier': 0.15208636096990777,\n",
    "  'sphere': 0.16788527140509976,\n",
    "  'tiger': 0.025769608266390145,\n",
    "  'traffic': 0.4642776719210107,\n",
    "  'tunnel': 0.4350842322685467,\n",
    "  'wiper': 0.24880621169005496}"
   ]
  },
  {
   "cell_type": "code",
   "execution_count": 62,
   "metadata": {
    "ExecuteTime": {
     "end_time": "2018-08-15T12:11:58.578708Z",
     "start_time": "2018-08-15T12:11:58.573278Z"
    }
   },
   "outputs": [],
   "source": [
    "theor = {'blanket': 0.18291710391578664, 'bolt2': 0.5673433659957442, 'traffic': 0.5746887751799356, 'ball1': 0.10681770376159226, 'leaves': 0.0, 'pedestrian1': 0.6485712379493929, 'singer3': 0.1838025259729119, 'helicopter': 0.1579965510567808, 'godfather': 0.15425687802065252, 'soccer1': 0.08186977937811162, 'book': 0.17279531273915943, 'tunnel': 0.4368175031466086, 'gymnastics1': 0.655671257247941, 'basketball': 0.6585782702907222, 'birds1': 0.41405993255774654, 'car1': 0.7267896246948623, 'ball2': 0.01968759353660599, 'birds2': 0.6138320619512763, 'motocross1': 0.46280815041663936, 'bmx': 0.6582125426406513, 'gymnastics2': 0.5813593790121165, 'fish3': 0.41171868354285635, 'motocross2': 0.30778527365118846, 'soccer2': 0.49052709110984866, 'octopus': 0.5884044642442106,'fernando': 0.572051807102179, 'shaking': 0.11367979973417805, 'crossing': 0.6059558512367549, 'singer2': 0.6812222153365551, 'soldier': 0.12212306841040095, 'pedestrian2': 0.7399028766237007, 'nature': 0.5475603649345746, 'butterfly': 0.2175166359839938, 'road': 0.564176788029112, 'iceskater2': 0.6318364015558268, 'sphere': 0.20921765986603758, 'fish2': 0.05880601855436447, 'graduate': 0.6654342338461118, 'marching': 0.26653386183293803, 'rabbit': 0.00021607668653657693, 'car2': 0.1292966751871406, 'matrix': 0.06770082796018426, 'girl': 0.7501918525866975, 'tiger': 0.036646759878251195, 'gymnastics4': 0.6688527570458505, 'wiper': 0.2616305577015176, 'racing': 0.765155737134693, 'dinosaur': 0.29709394329196565, 'bolt1': 0.6448989225335147, 'hand': 0.08545657437107575, 'handball1': 0.2327957603232915, 'bag': 0.4744404017094571, 'sheep': 0.6271279244096969, 'iceskater1': 0.6477351861750958, 'fish1': 0.010541884640825602, 'singer1': 0.612334547639468, 'gymnastics3': 0.387277998339298, 'fish4': 0.04605607976707805, 'glove': 0.06290541098156799, 'handball2': 0.2643525882509363}"
   ]
  },
  {
   "cell_type": "code",
   "execution_count": null,
   "metadata": {
    "ExecuteTime": {
     "end_time": "2018-08-15T11:57:33.017568Z",
     "start_time": "2018-08-15T11:57:04.469Z"
    }
   },
   "outputs": [],
   "source": [
    "1e-2"
   ]
  },
  {
   "cell_type": "code",
   "execution_count": 68,
   "metadata": {
    "ExecuteTime": {
     "end_time": "2018-08-15T12:12:31.408094Z",
     "start_time": "2018-08-15T12:12:31.389072Z"
    },
    "scrolled": false
   },
   "outputs": [
    {
     "name": "stdout",
     "output_type": "stream",
     "text": [
      "YEAH\t0.172603747922678\t0.18291710391578664\tblanket\n",
      "YEAH\t0.5475087886257609\t0.5673433659957442\tbolt2\n",
      "YEAH\t0.4642776719210107\t0.5746887751799356\ttraffic\n",
      "0.06615024830104882\t0.04066745546054344\t0.10681770376159226\tball1\n",
      "HURRAY\t0.0\t0.0\tleaves\n",
      "0.28494240255144293\t0.36362883539794993\t0.6485712379493929\tpedestrian1\n",
      "HURRAY\t0.1837715864090872\t0.1838025259729119\tsinger3\n",
      "0.13199069425539112\t0.02600585680138968\t0.1579965510567808\thelicopter\n",
      "0.1340764002874132\t0.020180477733239343\t0.15425687802065252\tgodfather\n",
      "0.03300379446392107\t0.048865984914190544\t0.08186977937811162\tsoccer1\n",
      "YEAH\t0.1441035796794451\t0.17279531273915943\tbook\n",
      "HURRAY\t0.4350842322685467\t0.4368175031466086\ttunnel\n",
      "0.17997011918038913\t0.4757011380675518\t0.655671257247941\tgymnastics1\n",
      "0.5726646269739228\t0.08591364331679942\t0.6585782702907222\tbasketball\n",
      "YEAH\t0.3921305659682844\t0.41405993255774654\tbirds1\n",
      "YEAH\t0.6491787929225329\t0.7267896246948623\tcar1\n",
      "HURRAY\t0.01968759353660599\t0.01968759353660599\tball2\n",
      "0.1564288886286374\t0.45740317332263886\t0.6138320619512763\tbirds2\n",
      "YEAH\t0.4409126709782752\t0.46280815041663936\tmotocross1\n",
      "YEAH\t0.6300109110970414\t0.6582125426406513\tbmx\n",
      "0.1475111742942949\t0.43384820471782165\t0.5813593790121165\tgymnastics2\n",
      "HURRAY\t0.4081342253822134\t0.41171868354285635\tfish3\n",
      "YEAH\t0.29600126287717954\t0.30778527365118846\tmotocross2\n",
      "0.4645244387422905\t0.02600265236755819\t0.49052709110984866\tsoccer2\n",
      "HURRAY\t0.5819586222778861\t0.5884044642442106\toctopus\n",
      "YEAH\t0.515662651959916\t0.572051807102179\tfernando\n",
      "0.03155300077580378\t0.08212679895837427\t0.11367979973417805\tshaking\n",
      "YEAH\t0.5879241609277033\t0.6059558512367549\tcrossing\n",
      "YEAH\t0.5789162481757931\t0.6812222153365551\tsinger2\n",
      "HURRAY\t0.15208636096990777\t0.12212306841040095\tsoldier\n",
      "HURRAY\t0.739905099710942\t0.7399028766237007\tpedestrian2\n",
      "0.49520732550752145\t0.05235303942705318\t0.5475603649345746\tnature\n",
      "HURRAY\t0.2156443579467966\t0.2175166359839938\tbutterfly\n",
      "HURRAY\t0.5549116377884301\t0.564176788029112\troad\n",
      "YEAH\t0.578808090320845\t0.6318364015558268\ticeskater2\n",
      "YEAH\t0.16788527140509976\t0.20921765986603758\tsphere\n",
      "HURRAY\t0.07322816945968362\t0.05880601855436447\tfish2\n",
      "0.3916007218531145\t0.27383351199299727\t0.6654342338461118\tgraduate\n",
      "0.05518131312707325\t0.21135254870586478\t0.26653386183293803\tmarching\n",
      "HURRAY\t0.00021607668653657693\t0.00021607668653657693\trabbit\n",
      "0.06505175701034292\t0.06424491817679769\t0.1292966751871406\tcar2\n",
      "0.028399275866909234\t0.03930155209327502\t0.06770082796018426\tmatrix\n",
      "0.2539626637864088\t0.4962291888002887\t0.7501918525866975\tgirl\n",
      "0.01087715161186105\t0.025769608266390145\t0.036646759878251195\ttiger\n",
      "YEAH\t0.6442061806280363\t0.6688527570458505\tgymnastics4\n",
      "YEAH\t0.24880621169005496\t0.2616305577015176\twiper\n",
      "HURRAY\t0.765155737134693\t0.765155737134693\tracing\n",
      "0.14176977678823185\t0.1553241665037338\t0.29709394329196565\tdinosaur\n",
      "0.3640045755460298\t0.2808943469874849\t0.6448989225335147\tbolt1\n",
      "HURRAY\t0.08472788852124055\t0.08545657437107575\thand\n",
      "0.22999333791753387\t0.0028024224057576316\t0.2327957603232915\thandball1\n",
      "HURRAY\t0.47341449394132396\t0.4744404017094571\tbag\n",
      "HURRAY\t0.6274904191390392\t0.6271279244096969\tsheep\n",
      "HURRAY\t0.6477765964970537\t0.6477351861750958\ticeskater1\n",
      "HURRAY\t0.0100746068440364\t0.010541884640825602\tfish1\n",
      "0.4696518779634099\t0.1426826696760581\t0.612334547639468\tsinger1\n",
      "0.31584387156022037\t0.07143412677907762\t0.387277998339298\tgymnastics3\n",
      "HURRAY\t0.05187287344261048\t0.04605607976707805\tfish4\n",
      "0.01991497967011971\t0.04299043131144828\t0.06290541098156799\tglove\n",
      "0.19821669541730874\t0.06613589283362757\t0.2643525882509363\thandball2\n"
     ]
    },
    {
     "data": {
      "text/plain": [
       "0.5666666666666667"
      ]
     },
     "execution_count": 68,
     "metadata": {},
     "output_type": "execute_result"
    }
   ],
   "source": [
    "opa=0\n",
    "fuc=0\n",
    "tot=0\n",
    "for i in theor:\n",
    "    diff = theor[i] - fuck[i]\n",
    "    if fuck[i] / (theor[i]+1e-10) > .8:\n",
    "        diff = \"YEAH\"\n",
    "        fuc+=1\n",
    "    if theor[i] - fuck[i] < 1e-2:\n",
    "        diff = \"HURRAY\"\n",
    "        opa+=1\n",
    "        \n",
    "    print(diff, fuck[i], theor[i], i, sep=\"\\t\")\n",
    "    tot+=1\n",
    "    \n",
    "opa/tot\n",
    "fuc/tot\n",
    "    "
   ]
  },
  {
   "cell_type": "code",
   "execution_count": 64,
   "metadata": {
    "ExecuteTime": {
     "end_time": "2018-08-15T12:12:04.791613Z",
     "start_time": "2018-08-15T12:12:04.767281Z"
    }
   },
   "outputs": [
    {
     "ename": "NameError",
     "evalue": "name 'video' is not defined",
     "output_type": "error",
     "traceback": [
      "\u001b[0;31m---------------------------------------------------------------------------\u001b[0m",
      "\u001b[0;31mNameError\u001b[0m                                 Traceback (most recent call last)",
      "\u001b[0;32m<ipython-input-64-b96ab891e43d>\u001b[0m in \u001b[0;36m<module>\u001b[0;34m()\u001b[0m\n\u001b[1;32m      1\u001b[0m \u001b[0mprev_frames\u001b[0m \u001b[0;34m=\u001b[0m \u001b[0;34m[\u001b[0m\u001b[0;34m]\u001b[0m\u001b[0;34m\u001b[0m\u001b[0m\n\u001b[0;32m----> 2\u001b[0;31m \u001b[0;32mfor\u001b[0m \u001b[0mframe\u001b[0m \u001b[0;32min\u001b[0m \u001b[0mvideo\u001b[0m\u001b[0;34m:\u001b[0m\u001b[0;34m\u001b[0m\u001b[0m\n\u001b[0m\u001b[1;32m      3\u001b[0m     \u001b[0myp\u001b[0m \u001b[0;34m=\u001b[0m \u001b[0myolo_predictions\u001b[0m\u001b[0;34m(\u001b[0m\u001b[0mframe\u001b[0m\u001b[0;34m)\u001b[0m\u001b[0;34m\u001b[0m\u001b[0m\n\u001b[1;32m      4\u001b[0m     \u001b[0mdo_dp\u001b[0m\u001b[0;34m(\u001b[0m\u001b[0mframe\u001b[0m\u001b[0;34m,\u001b[0m \u001b[0mprev_frames\u001b[0m\u001b[0;34m)\u001b[0m\u001b[0;34m\u001b[0m\u001b[0m\n",
      "\u001b[0;31mNameError\u001b[0m: name 'video' is not defined"
     ]
    }
   ],
   "source": [
    "prev_frames = []\n",
    "for frame in video:\n",
    "    yp = yolo_predictions(frame)\n",
    "    do_dp(frame, prev_frames)"
   ]
  },
  {
   "cell_type": "code",
   "execution_count": null,
   "metadata": {},
   "outputs": [],
   "source": []
  }
 ],
 "metadata": {
  "celltoolbar": "Slideshow",
  "kernelspec": {
   "display_name": "Python 3",
   "language": "python",
   "name": "python3"
  },
  "language_info": {
   "codemirror_mode": {
    "name": "ipython",
    "version": 3
   },
   "file_extension": ".py",
   "mimetype": "text/x-python",
   "name": "python",
   "nbconvert_exporter": "python",
   "pygments_lexer": "ipython3",
   "version": "3.6.6"
  },
  "notify_time": "5",
  "widgets": {
   "application/vnd.jupyter.widget-state+json": {
    "state": {},
    "version_major": 2,
    "version_minor": 0
   }
  }
 },
 "nbformat": 4,
 "nbformat_minor": 2
}
